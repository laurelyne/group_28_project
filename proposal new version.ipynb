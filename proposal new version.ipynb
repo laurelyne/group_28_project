{
 "cells": [
  {
   "cell_type": "markdown",
   "id": "967f7527",
   "metadata": {},
   "source": [
    "**Title:** What the Shell?!"
   ]
  },
  {
   "cell_type": "markdown",
   "id": "31686201",
   "metadata": {},
   "source": [
    "**Team member:** Laurelyne Barbier, Carter Gunning, Sebastian Martinez Sotomayor and Tayte Stefaniuk"
   ]
  },
  {
   "cell_type": "markdown",
   "id": "51b0245b-52cd-48a5-9267-4753d181d806",
   "metadata": {},
   "source": [
    "**Introduction**\n",
    "\n",
    "Abalones are a type of mollusk that are found in marine environments and commonly considered a delicacy in a plethora of cuisines and their popularity is reflected by their price, costing up to 100$ per shell, (The Pricer, 2021). Consequently, many species of this marine mollusk have been classified as endangered. This prompted scientific research into their populations (Kerlin, 2022) which requires knowing the age stratification. Determining the age of an abalone involves cutting the shell, staining it, and counting the rings that are formed perennially using a microscope. \n",
    "The tediousness of this procedure inspired our group to explore the following question: Can the age of an abalone can be predicted based on several measurements describing its dimensions and weight using a regression model in R?\n",
    "\n",
    "The dataset we will be using to answer this question give various statistics on the physical characteristics of 4178 different mollusks.  These statistics include the length, diameter, height, weight, shucked weight, viscera weight (this is the gut weight after bleeding), shell weight (after being dried) and number of rings of these mollusks..  One categorical variable they use is sex of the mollusk which can be male, female, or infant (infant is a category because mollusks can switch sexes) (Kaggle, n.d.).   We also added the variable age, which is the number of rings plus 1.5 (Nash & Sellers, 1994).\n"
   ]
  },
  {
   "cell_type": "markdown",
   "id": "e58d15ec-ee09-47fa-b899-2c2dc89bf4f4",
   "metadata": {},
   "source": [
    "**Preliminary exploratory data analysis**"
   ]
  },
  {
   "cell_type": "code",
   "execution_count": 1,
   "id": "8dd3798e",
   "metadata": {},
   "outputs": [
    {
     "name": "stderr",
     "output_type": "stream",
     "text": [
      "── \u001b[1mAttaching packages\u001b[22m ─────────────────────────────────────── tidyverse 1.3.1 ──\n",
      "\n",
      "\u001b[32m✔\u001b[39m \u001b[34mggplot2\u001b[39m 3.3.6     \u001b[32m✔\u001b[39m \u001b[34mpurrr  \u001b[39m 0.3.4\n",
      "\u001b[32m✔\u001b[39m \u001b[34mtibble \u001b[39m 3.1.7     \u001b[32m✔\u001b[39m \u001b[34mdplyr  \u001b[39m 1.0.9\n",
      "\u001b[32m✔\u001b[39m \u001b[34mtidyr  \u001b[39m 1.2.0     \u001b[32m✔\u001b[39m \u001b[34mstringr\u001b[39m 1.4.0\n",
      "\u001b[32m✔\u001b[39m \u001b[34mreadr  \u001b[39m 2.1.2     \u001b[32m✔\u001b[39m \u001b[34mforcats\u001b[39m 0.5.1\n",
      "\n",
      "── \u001b[1mConflicts\u001b[22m ────────────────────────────────────────── tidyverse_conflicts() ──\n",
      "\u001b[31m✖\u001b[39m \u001b[34mdplyr\u001b[39m::\u001b[32mfilter()\u001b[39m masks \u001b[34mstats\u001b[39m::filter()\n",
      "\u001b[31m✖\u001b[39m \u001b[34mdplyr\u001b[39m::\u001b[32mlag()\u001b[39m    masks \u001b[34mstats\u001b[39m::lag()\n",
      "\n",
      "── \u001b[1mAttaching packages\u001b[22m ────────────────────────────────────── tidymodels 1.0.0 ──\n",
      "\n",
      "\u001b[32m✔\u001b[39m \u001b[34mbroom       \u001b[39m 1.0.0     \u001b[32m✔\u001b[39m \u001b[34mrsample     \u001b[39m 1.0.0\n",
      "\u001b[32m✔\u001b[39m \u001b[34mdials       \u001b[39m 1.0.0     \u001b[32m✔\u001b[39m \u001b[34mtune        \u001b[39m 1.0.0\n",
      "\u001b[32m✔\u001b[39m \u001b[34minfer       \u001b[39m 1.0.2     \u001b[32m✔\u001b[39m \u001b[34mworkflows   \u001b[39m 1.0.0\n",
      "\u001b[32m✔\u001b[39m \u001b[34mmodeldata   \u001b[39m 1.0.0     \u001b[32m✔\u001b[39m \u001b[34mworkflowsets\u001b[39m 1.0.0\n",
      "\u001b[32m✔\u001b[39m \u001b[34mparsnip     \u001b[39m 1.0.0     \u001b[32m✔\u001b[39m \u001b[34myardstick   \u001b[39m 1.0.0\n",
      "\u001b[32m✔\u001b[39m \u001b[34mrecipes     \u001b[39m 1.0.1     \n",
      "\n",
      "── \u001b[1mConflicts\u001b[22m ───────────────────────────────────────── tidymodels_conflicts() ──\n",
      "\u001b[31m✖\u001b[39m \u001b[34mscales\u001b[39m::\u001b[32mdiscard()\u001b[39m masks \u001b[34mpurrr\u001b[39m::discard()\n",
      "\u001b[31m✖\u001b[39m \u001b[34mdplyr\u001b[39m::\u001b[32mfilter()\u001b[39m   masks \u001b[34mstats\u001b[39m::filter()\n",
      "\u001b[31m✖\u001b[39m \u001b[34mrecipes\u001b[39m::\u001b[32mfixed()\u001b[39m  masks \u001b[34mstringr\u001b[39m::fixed()\n",
      "\u001b[31m✖\u001b[39m \u001b[34mdplyr\u001b[39m::\u001b[32mlag()\u001b[39m      masks \u001b[34mstats\u001b[39m::lag()\n",
      "\u001b[31m✖\u001b[39m \u001b[34myardstick\u001b[39m::\u001b[32mspec()\u001b[39m masks \u001b[34mreadr\u001b[39m::spec()\n",
      "\u001b[31m✖\u001b[39m \u001b[34mrecipes\u001b[39m::\u001b[32mstep()\u001b[39m   masks \u001b[34mstats\u001b[39m::step()\n",
      "\u001b[34m•\u001b[39m Dig deeper into tidy modeling with R at \u001b[32mhttps://www.tmwr.org\u001b[39m\n",
      "\n",
      "Warning message in file(filename, \"r\", encoding = encoding):\n",
      "“cannot open file 'tests.R': No such file or directory”\n"
     ]
    },
    {
     "ename": "ERROR",
     "evalue": "Error in file(filename, \"r\", encoding = encoding): cannot open the connection\n",
     "output_type": "error",
     "traceback": [
      "Error in file(filename, \"r\", encoding = encoding): cannot open the connection\nTraceback:\n",
      "1. source(\"tests.R\")",
      "2. file(filename, \"r\", encoding = encoding)"
     ]
    }
   ],
   "source": [
    "###\n",
    "### Tidy Package\n",
    "###\n",
    "\n",
    "library(repr)\n",
    "library(tidyverse)\n",
    "library(tidymodels)\n",
    "options(repr.matrix.max.rows = 6)\n",
    "source('tests.R')\n",
    "source(\"cleanup.R\")\n",
    "\n",
    "# functions needed to work with images\n",
    "# code below sourced from: https://gist.github.com/daviddalpiaz/ae62ae5ccd0bada4b9acd6dbc9008706\n",
    "# helper function for visualization\n",
    "show_digit = function(arr784, col = gray(12:1 / 12), ...) {\n",
    "  arr784$X <- 0  # avoid dark pixel in top left\n",
    "  image(matrix(as.matrix(arr784[-785]), nrow = 28)[, 28:1], col = col, ...)\n",
    "}\n",
    "\n",
    "#set seed\n",
    "\n",
    "set.seed(1969)"
   ]
  },
  {
   "cell_type": "markdown",
   "id": "309ff0c4",
   "metadata": {},
   "source": [
    "**Demonstrate that the dataset can be read from the web into R**\n"
   ]
  },
  {
   "cell_type": "code",
   "execution_count": null,
   "id": "d1c1f275",
   "metadata": {},
   "outputs": [],
   "source": [
    "raw_shell <- read_csv(\"data/abalone.csv\")\n",
    "raw_shell"
   ]
  },
  {
   "cell_type": "markdown",
   "id": "8466a6d7",
   "metadata": {},
   "source": [
    "**Clean and wrangle your data into a tidy format:**\n",
    "\n",
    "Data is already tidy.\n"
   ]
  },
  {
   "cell_type": "code",
   "execution_count": null,
   "id": "ee708478-0c46-44b1-9fde-300a60eb74ce",
   "metadata": {},
   "outputs": [],
   "source": [
    "#lowercase column names & rid of spaces\n",
    "names(raw_shell) <- tolower(names(raw_shell))\n",
    "shell <- rename(raw_shell, \"whole_weight\" = \"whole weight\",\"shucked_weight\" = \"shucked weight\", \"viscera_weight\" =\n",
    "        \"viscera weight\", \"shell_weight\" = \"shell weight\")\n",
    "\n",
    "#adding an age column, knowing that age in years = number of rings + 1.5.\n",
    "shell <- mutate(shell, age = rings + 1.5)\n",
    "shell\n"
   ]
  },
  {
   "cell_type": "markdown",
   "id": "7f88aea5",
   "metadata": {},
   "source": [
    "**Using only training data, summarize the data in at least one table (this is exploratory data analysis). An example of a useful table could be one that reports the number of observations in each class, the means of the predictor variables you plan to use in your analysis and how many rows have missing data.**\n"
   ]
  },
  {
   "cell_type": "code",
   "execution_count": null,
   "id": "e1277717",
   "metadata": {},
   "outputs": [],
   "source": [
    "shell_split <- initial_split(shell, prop = 0.75)  \n",
    "shell_train <- training(shell_split)\n",
    "shell_test <- testing(shell_split)\n",
    "\n",
    "shell_train\n",
    "shell_test\n"
   ]
  },
  {
   "cell_type": "code",
   "execution_count": null,
   "id": "27ffdbc5-2533-4e88-9e70-fb3f1427d428",
   "metadata": {},
   "outputs": [],
   "source": [
    "# number of observations of each sex\n",
    "shell_obs <- shell_train|>\n",
    "    group_by(sex)|>\n",
    "    summarize(count = n())\n",
    "shell_obs\n",
    "\n",
    "# means of numerical predictor variables\n",
    "\n",
    "shell_means <- shell_train |>\n",
    "    select(length:shell_weight)|>\n",
    "    map_df(mean)\n",
    "shell_means"
   ]
  },
  {
   "cell_type": "markdown",
   "id": "c33db881-fce7-4962-8e3a-fccfcd1f2c51",
   "metadata": {},
   "source": [
    "**Using only training data, visualize the data with at least one plot relevant to the analysis you plan to do (this is exploratory data analysis). An example of a useful visualization could be one that compares the distributions of each of the predictor variables you plan to use in your analysis.**\n"
   ]
  },
  {
   "cell_type": "code",
   "execution_count": null,
   "id": "f2e7220e-75cd-4b47-8b8f-ffc0e8cae687",
   "metadata": {},
   "outputs": [],
   "source": [
    "comparative_plot_length <- shell_train|>\n",
    "    ggplot(aes(x = length, y = age)) +\n",
    "           geom_point(aes(color = sex, shape = sex)) +\n",
    "    labs(x = \"Length (mm)\", y = \"Age (years)\", color = \"Sex\", shape = \"Sex\") +\n",
    "    theme(text = element_text(size = 18))\n",
    "comparative_plot_length"
   ]
  },
  {
   "cell_type": "code",
   "execution_count": null,
   "id": "0b0cc7b5-1414-4491-b499-2e9918ce7ca0",
   "metadata": {},
   "outputs": [],
   "source": [
    "comparative_plot_diameter <- shell_train|>\n",
    "    ggplot(aes(x = diameter, y = age)) +\n",
    "           geom_point(aes(color = sex, shape = sex)) +\n",
    "    labs(x = \"Diameter (mm)\", y = \"Age (years)\", color = \"Sex\", shape = \"Sex\") +\n",
    "    theme(text = element_text(size = 18))\n",
    "comparative_plot_diameter"
   ]
  },
  {
   "cell_type": "code",
   "execution_count": null,
   "id": "402be2ce-b43f-4165-8a93-7f7bbc2f7a90",
   "metadata": {},
   "outputs": [],
   "source": [
    "comparative_plot_height <- shell_train|>\n",
    "    ggplot(aes(x = height, y = age)) +\n",
    "           geom_point(aes(color = sex, shape = sex)) +\n",
    "    labs(x = \"Height (mm)\", y = \"Age (years)\", color = \"Sex\", shape = \"Sex\") +\n",
    "    theme(text = element_text(size = 18))\n",
    "comparative_plot_height"
   ]
  },
  {
   "cell_type": "code",
   "execution_count": null,
   "id": "15d858ba-e9a0-4ba3-bc6f-4ab64bc69fe3",
   "metadata": {},
   "outputs": [],
   "source": [
    "comparative_plot_whole_weight <- shell_train|>\n",
    "    ggplot(aes(x = whole_weight, y = age)) +\n",
    "           geom_point(aes(color = sex, shape = sex)) +\n",
    "    labs(x = \"Whole weight (g)\", y = \"Age (years)\", color = \"Sex\", shape = \"Sex\") +\n",
    "    theme(text = element_text(size = 18))\n",
    "comparative_plot_whole_weight"
   ]
  },
  {
   "cell_type": "code",
   "execution_count": null,
   "id": "e36eb4d0-fe13-412e-833c-f94e32bbc28e",
   "metadata": {},
   "outputs": [],
   "source": [
    "comparative_plot_shucked_weight <- shell_train|>\n",
    "    ggplot(aes(x = shucked_weight, y = age)) +\n",
    "           geom_point(aes(color = sex, shape = sex)) +\n",
    "    labs(x = \"Shucked weight (g)\", y = \"Age (years)\", color = \"Sex\", shape = \"Sex\") +\n",
    "    theme(text = element_text(size = 18))\n",
    "comparative_plot_shucked_weight"
   ]
  },
  {
   "cell_type": "code",
   "execution_count": null,
   "id": "3392d482-fe81-454b-b978-3750586d73ea",
   "metadata": {},
   "outputs": [],
   "source": [
    "comparative_plot_viscera_weight <- shell_train|>\n",
    "    ggplot(aes(x = viscera_weight, y = age)) +\n",
    "           geom_point(aes(color = sex, shape = sex)) +\n",
    "    labs(x = \"Viscera weight (g)\", y = \"Age (years)\", color = \"Sex\", shape = \"Sex\") +\n",
    "    theme(text = element_text(size = 18))\n",
    "comparative_plot_viscera_weight"
   ]
  },
  {
   "cell_type": "code",
   "execution_count": null,
   "id": "6008891b-d65f-4bcf-b8e5-0a9f171ca08f",
   "metadata": {},
   "outputs": [],
   "source": [
    "comparative_plot_shell_weight <- shell_train|>\n",
    "    ggplot(aes(x = shell_weight, y = age)) +\n",
    "           geom_point(aes(color = sex, shape = sex)) +\n",
    "    labs(x = \"Shell weight (g)\", y = \"Age (years)\", color = \"Sex\", shape = \"Sex\") +\n",
    "    theme(text = element_text(size = 18))\n",
    "comparative_plot_shell_weight"
   ]
  },
  {
   "cell_type": "markdown",
   "id": "3f8b268c-8408-403e-b436-21d49dfa0c85",
   "metadata": {},
   "source": [
    "**Methods**\n",
    "The dataset we are using answer this question give various statistics on the physical\n",
    "characteristics of 4178 different mollusks (Kaggle, n.d.).\n",
    "\n",
    "The characteristics associated with this data set include:\n",
    "• Length\n",
    "• Diameter\n",
    "• Height\n",
    "• Whole weight\n",
    "• Shucked weight\n",
    "• Viscera weight (this is the gut weight after bleeding)\n",
    "• Shell weight (after being dried)\n",
    "• Number of rings of these mollusks.\n",
    "• Sex (categorical variable) - male, female, or infant (infant is a category because mollusks can\n",
    "switch sexes) .\n",
    "\n",
    "✴The variable age, which is the number of rings plus 1.5 (Nash & Sellers, 1994), was added.\n",
    "\n",
    "1. The data was already tidy so no wrangling procedures were conducted.\n",
    "2. The initial_split() function was utilized to split our data frame into 75% training and 25% testing data.\n",
    "3. To compute the count based on the categorical variable sex, the group_by() and summarize() function combination was employed.\n",
    "4. The previous step enabled the use of the map_df() function to calculate the mean for the variables in our new data frame.\n",
    "5. To identify the best predictors to use in the investigation, scatterplots of the different physical characteristics and age were generated."
   ]
  },
  {
   "cell_type": "markdown",
   "id": "a31d4a84-ac21-4804-9205-a4dc2605a04b",
   "metadata": {},
   "source": [
    "**Expected outcomes and significance**\n",
    "\n",
    "We expect to find that the measurements "
   ]
  },
  {
   "cell_type": "code",
   "execution_count": null,
   "id": "46f81741-a689-4a0a-a2ca-d9cf50b72c02",
   "metadata": {},
   "outputs": [],
   "source": []
  }
 ],
 "metadata": {
  "kernelspec": {
   "display_name": "R",
   "language": "R",
   "name": "ir"
  },
  "language_info": {
   "codemirror_mode": "r",
   "file_extension": ".r",
   "mimetype": "text/x-r-source",
   "name": "R",
   "pygments_lexer": "r",
   "version": "4.1.3"
  }
 },
 "nbformat": 4,
 "nbformat_minor": 5
}
