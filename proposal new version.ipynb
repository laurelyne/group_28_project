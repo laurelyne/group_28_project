{
 "cells": [
  {
   "cell_type": "markdown",
   "id": "967f7527",
   "metadata": {},
   "source": [
    "**Title:** What the Shell?!"
   ]
  },
  {
   "cell_type": "markdown",
   "id": "31686201",
   "metadata": {},
   "source": [
    "**Team member:** Laurelyne Barbier, Carter Gunning, Sebastian Martinez Sotomayor and Tayte Stefaniuk"
   ]
  },
  {
   "cell_type": "markdown",
   "id": "51b0245b-52cd-48a5-9267-4753d181d806",
   "metadata": {},
   "source": [
    "**Introduction**\n",
    "\n",
    "Abalones are a type of mollusk that are found in marine environments and commonly considered a delicacy in a plethora of cuisines. Their popularity is reflected by their price, costing up to 100$ per shell, (The Pricer, 2021). Consequently, many species of this marine mollusk have been classified as endangered. This prompted scientific research into their populations (Kerlin, 2022) which requires knowing the age stratification. Determining the age of an abalone involves cutting the shell, staining it, and counting the rings that are formed perennially using a microscope. \n",
    "The tediousness of this procedure inspired our group to explore the following question: Can the age of an abalone can be predicted based on several measurements describing its dimensions and weight using a regression model in R?\n",
    "\n",
    "The dataset we will be using to answer this question give various statistics on the physical characteristics of 4178 different mollusks.  These statistics include the length, diameter, height, weight, shucked weight, viscera weight (this is the gut weight after bleeding), shell weight (after being dried) and number of rings of these mollusks..  One categorical variable they use is sex of the mollusk which can be male, female, or infant (infant is a category because mollusks can switch sexes) (Kaggle, n.d.).   We also added the variable age, which is the number of rings plus 1.5 (Nash & Sellers, 1994).\n"
   ]
  },
  {
   "cell_type": "code",
   "execution_count": 2,
   "id": "8dd3798e",
   "metadata": {},
   "outputs": [
    {
     "name": "stderr",
     "output_type": "stream",
     "text": [
      "── \u001b[1mAttaching packages\u001b[22m ─────────────────────────────────────── tidyverse 1.3.1 ──\n",
      "\n",
      "\u001b[32m✔\u001b[39m \u001b[34mggplot2\u001b[39m 3.3.6     \u001b[32m✔\u001b[39m \u001b[34mpurrr  \u001b[39m 0.3.4\n",
      "\u001b[32m✔\u001b[39m \u001b[34mtibble \u001b[39m 3.1.7     \u001b[32m✔\u001b[39m \u001b[34mdplyr  \u001b[39m 1.0.9\n",
      "\u001b[32m✔\u001b[39m \u001b[34mtidyr  \u001b[39m 1.2.0     \u001b[32m✔\u001b[39m \u001b[34mstringr\u001b[39m 1.4.0\n",
      "\u001b[32m✔\u001b[39m \u001b[34mreadr  \u001b[39m 2.1.2     \u001b[32m✔\u001b[39m \u001b[34mforcats\u001b[39m 0.5.1\n",
      "\n",
      "── \u001b[1mConflicts\u001b[22m ────────────────────────────────────────── tidyverse_conflicts() ──\n",
      "\u001b[31m✖\u001b[39m \u001b[34mdplyr\u001b[39m::\u001b[32mfilter()\u001b[39m masks \u001b[34mstats\u001b[39m::filter()\n",
      "\u001b[31m✖\u001b[39m \u001b[34mdplyr\u001b[39m::\u001b[32mlag()\u001b[39m    masks \u001b[34mstats\u001b[39m::lag()\n",
      "\n",
      "── \u001b[1mAttaching packages\u001b[22m ────────────────────────────────────── tidymodels 1.0.0 ──\n",
      "\n",
      "\u001b[32m✔\u001b[39m \u001b[34mbroom       \u001b[39m 1.0.0     \u001b[32m✔\u001b[39m \u001b[34mrsample     \u001b[39m 1.0.0\n",
      "\u001b[32m✔\u001b[39m \u001b[34mdials       \u001b[39m 1.0.0     \u001b[32m✔\u001b[39m \u001b[34mtune        \u001b[39m 1.0.0\n",
      "\u001b[32m✔\u001b[39m \u001b[34minfer       \u001b[39m 1.0.2     \u001b[32m✔\u001b[39m \u001b[34mworkflows   \u001b[39m 1.0.0\n",
      "\u001b[32m✔\u001b[39m \u001b[34mmodeldata   \u001b[39m 1.0.0     \u001b[32m✔\u001b[39m \u001b[34mworkflowsets\u001b[39m 1.0.0\n",
      "\u001b[32m✔\u001b[39m \u001b[34mparsnip     \u001b[39m 1.0.0     \u001b[32m✔\u001b[39m \u001b[34myardstick   \u001b[39m 1.0.0\n",
      "\u001b[32m✔\u001b[39m \u001b[34mrecipes     \u001b[39m 1.0.1     \n",
      "\n",
      "── \u001b[1mConflicts\u001b[22m ───────────────────────────────────────── tidymodels_conflicts() ──\n",
      "\u001b[31m✖\u001b[39m \u001b[34mscales\u001b[39m::\u001b[32mdiscard()\u001b[39m masks \u001b[34mpurrr\u001b[39m::discard()\n",
      "\u001b[31m✖\u001b[39m \u001b[34mdplyr\u001b[39m::\u001b[32mfilter()\u001b[39m   masks \u001b[34mstats\u001b[39m::filter()\n",
      "\u001b[31m✖\u001b[39m \u001b[34mrecipes\u001b[39m::\u001b[32mfixed()\u001b[39m  masks \u001b[34mstringr\u001b[39m::fixed()\n",
      "\u001b[31m✖\u001b[39m \u001b[34mdplyr\u001b[39m::\u001b[32mlag()\u001b[39m      masks \u001b[34mstats\u001b[39m::lag()\n",
      "\u001b[31m✖\u001b[39m \u001b[34myardstick\u001b[39m::\u001b[32mspec()\u001b[39m masks \u001b[34mreadr\u001b[39m::spec()\n",
      "\u001b[31m✖\u001b[39m \u001b[34mrecipes\u001b[39m::\u001b[32mstep()\u001b[39m   masks \u001b[34mstats\u001b[39m::step()\n",
      "\u001b[34m•\u001b[39m Use \u001b[32mtidymodels_prefer()\u001b[39m to resolve common conflicts.\n",
      "\n",
      "Warning message in file(filename, \"r\", encoding = encoding):\n",
      "“cannot open file 'tests.R': No such file or directory”\n"
     ]
    },
    {
     "ename": "ERROR",
     "evalue": "Error in file(filename, \"r\", encoding = encoding): cannot open the connection\n",
     "output_type": "error",
     "traceback": [
      "Error in file(filename, \"r\", encoding = encoding): cannot open the connection\nTraceback:\n",
      "1. source(\"tests.R\")",
      "2. file(filename, \"r\", encoding = encoding)"
     ]
    }
   ],
   "source": [
    "###\n",
    "### Tidy Package\n",
    "###\n",
    "\n",
    "library(repr)\n",
    "library(tidyverse)\n",
    "library(tidymodels)\n",
    "options(repr.matrix.max.rows = 6)\n",
    "source('tests.R')\n",
    "source(\"cleanup.R\")\n",
    "\n",
    "# functions needed to work with images\n",
    "# code below sourced from: https://gist.github.com/daviddalpiaz/ae62ae5ccd0bada4b9acd6dbc9008706\n",
    "# helper function for visualization\n",
    "show_digit = function(arr784, col = gray(12:1 / 12), ...) {\n",
    "  arr784$X <- 0  # avoid dark pixel in top left\n",
    "  image(matrix(as.matrix(arr784[-785]), nrow = 28)[, 28:1], col = col, ...)\n",
    "}\n",
    "\n",
    "#set seed\n",
    "\n",
    "set.seed(1969)"
   ]
  },
  {
   "cell_type": "markdown",
   "id": "309ff0c4",
   "metadata": {},
   "source": [
    "**1. Demonstrate that the dataset can be read from the web into R**\n"
   ]
  },
  {
   "cell_type": "code",
   "execution_count": 3,
   "id": "d1c1f275",
   "metadata": {},
   "outputs": [
    {
     "name": "stderr",
     "output_type": "stream",
     "text": [
      "\u001b[1mRows: \u001b[22m\u001b[34m4177\u001b[39m \u001b[1mColumns: \u001b[22m\u001b[34m9\u001b[39m\n",
      "\u001b[36m──\u001b[39m \u001b[1mColumn specification\u001b[22m \u001b[36m────────────────────────────────────────────────────────\u001b[39m\n",
      "\u001b[1mDelimiter:\u001b[22m \",\"\n",
      "\u001b[31mchr\u001b[39m (1): Sex\n",
      "\u001b[32mdbl\u001b[39m (8): Length, Diameter, Height, Whole weight, Shucked weight, Viscera wei...\n",
      "\n",
      "\u001b[36mℹ\u001b[39m Use `spec()` to retrieve the full column specification for this data.\n",
      "\u001b[36mℹ\u001b[39m Specify the column types or set `show_col_types = FALSE` to quiet this message.\n"
     ]
    },
    {
     "data": {
      "text/html": [
       "<table class=\"dataframe\">\n",
       "<caption>A spec_tbl_df: 4177 × 9</caption>\n",
       "<thead>\n",
       "\t<tr><th scope=col>Sex</th><th scope=col>Length</th><th scope=col>Diameter</th><th scope=col>Height</th><th scope=col>Whole weight</th><th scope=col>Shucked weight</th><th scope=col>Viscera weight</th><th scope=col>Shell weight</th><th scope=col>Rings</th></tr>\n",
       "\t<tr><th scope=col>&lt;chr&gt;</th><th scope=col>&lt;dbl&gt;</th><th scope=col>&lt;dbl&gt;</th><th scope=col>&lt;dbl&gt;</th><th scope=col>&lt;dbl&gt;</th><th scope=col>&lt;dbl&gt;</th><th scope=col>&lt;dbl&gt;</th><th scope=col>&lt;dbl&gt;</th><th scope=col>&lt;dbl&gt;</th></tr>\n",
       "</thead>\n",
       "<tbody>\n",
       "\t<tr><td>M</td><td>0.455</td><td>0.365</td><td>0.095</td><td>0.5140</td><td>0.2245</td><td>0.1010</td><td>0.15</td><td>15</td></tr>\n",
       "\t<tr><td>M</td><td>0.350</td><td>0.265</td><td>0.090</td><td>0.2255</td><td>0.0995</td><td>0.0485</td><td>0.07</td><td> 7</td></tr>\n",
       "\t<tr><td>F</td><td>0.530</td><td>0.420</td><td>0.135</td><td>0.6770</td><td>0.2565</td><td>0.1415</td><td>0.21</td><td> 9</td></tr>\n",
       "\t<tr><td>⋮</td><td>⋮</td><td>⋮</td><td>⋮</td><td>⋮</td><td>⋮</td><td>⋮</td><td>⋮</td><td>⋮</td></tr>\n",
       "\t<tr><td>M</td><td>0.600</td><td>0.475</td><td>0.205</td><td>1.1760</td><td>0.5255</td><td>0.2875</td><td>0.308</td><td> 9</td></tr>\n",
       "\t<tr><td>F</td><td>0.625</td><td>0.485</td><td>0.150</td><td>1.0945</td><td>0.5310</td><td>0.2610</td><td>0.296</td><td>10</td></tr>\n",
       "\t<tr><td>M</td><td>0.710</td><td>0.555</td><td>0.195</td><td>1.9485</td><td>0.9455</td><td>0.3765</td><td>0.495</td><td>12</td></tr>\n",
       "</tbody>\n",
       "</table>\n"
      ],
      "text/latex": [
       "A spec\\_tbl\\_df: 4177 × 9\n",
       "\\begin{tabular}{lllllllll}\n",
       " Sex & Length & Diameter & Height & Whole weight & Shucked weight & Viscera weight & Shell weight & Rings\\\\\n",
       " <chr> & <dbl> & <dbl> & <dbl> & <dbl> & <dbl> & <dbl> & <dbl> & <dbl>\\\\\n",
       "\\hline\n",
       "\t M & 0.455 & 0.365 & 0.095 & 0.5140 & 0.2245 & 0.1010 & 0.15 & 15\\\\\n",
       "\t M & 0.350 & 0.265 & 0.090 & 0.2255 & 0.0995 & 0.0485 & 0.07 &  7\\\\\n",
       "\t F & 0.530 & 0.420 & 0.135 & 0.6770 & 0.2565 & 0.1415 & 0.21 &  9\\\\\n",
       "\t ⋮ & ⋮ & ⋮ & ⋮ & ⋮ & ⋮ & ⋮ & ⋮ & ⋮\\\\\n",
       "\t M & 0.600 & 0.475 & 0.205 & 1.1760 & 0.5255 & 0.2875 & 0.308 &  9\\\\\n",
       "\t F & 0.625 & 0.485 & 0.150 & 1.0945 & 0.5310 & 0.2610 & 0.296 & 10\\\\\n",
       "\t M & 0.710 & 0.555 & 0.195 & 1.9485 & 0.9455 & 0.3765 & 0.495 & 12\\\\\n",
       "\\end{tabular}\n"
      ],
      "text/markdown": [
       "\n",
       "A spec_tbl_df: 4177 × 9\n",
       "\n",
       "| Sex &lt;chr&gt; | Length &lt;dbl&gt; | Diameter &lt;dbl&gt; | Height &lt;dbl&gt; | Whole weight &lt;dbl&gt; | Shucked weight &lt;dbl&gt; | Viscera weight &lt;dbl&gt; | Shell weight &lt;dbl&gt; | Rings &lt;dbl&gt; |\n",
       "|---|---|---|---|---|---|---|---|---|\n",
       "| M | 0.455 | 0.365 | 0.095 | 0.5140 | 0.2245 | 0.1010 | 0.15 | 15 |\n",
       "| M | 0.350 | 0.265 | 0.090 | 0.2255 | 0.0995 | 0.0485 | 0.07 |  7 |\n",
       "| F | 0.530 | 0.420 | 0.135 | 0.6770 | 0.2565 | 0.1415 | 0.21 |  9 |\n",
       "| ⋮ | ⋮ | ⋮ | ⋮ | ⋮ | ⋮ | ⋮ | ⋮ | ⋮ |\n",
       "| M | 0.600 | 0.475 | 0.205 | 1.1760 | 0.5255 | 0.2875 | 0.308 |  9 |\n",
       "| F | 0.625 | 0.485 | 0.150 | 1.0945 | 0.5310 | 0.2610 | 0.296 | 10 |\n",
       "| M | 0.710 | 0.555 | 0.195 | 1.9485 | 0.9455 | 0.3765 | 0.495 | 12 |\n",
       "\n"
      ],
      "text/plain": [
       "     Sex Length Diameter Height Whole weight Shucked weight Viscera weight\n",
       "1    M   0.455  0.365    0.095  0.5140       0.2245         0.1010        \n",
       "2    M   0.350  0.265    0.090  0.2255       0.0995         0.0485        \n",
       "3    F   0.530  0.420    0.135  0.6770       0.2565         0.1415        \n",
       "⋮    ⋮   ⋮      ⋮        ⋮      ⋮            ⋮              ⋮             \n",
       "4175 M   0.600  0.475    0.205  1.1760       0.5255         0.2875        \n",
       "4176 F   0.625  0.485    0.150  1.0945       0.5310         0.2610        \n",
       "4177 M   0.710  0.555    0.195  1.9485       0.9455         0.3765        \n",
       "     Shell weight Rings\n",
       "1    0.15         15   \n",
       "2    0.07          7   \n",
       "3    0.21          9   \n",
       "⋮    ⋮            ⋮    \n",
       "4175 0.308         9   \n",
       "4176 0.296        10   \n",
       "4177 0.495        12   "
      ]
     },
     "metadata": {},
     "output_type": "display_data"
    }
   ],
   "source": [
    "#reading the dataset from our github repository (data originally from Kaggle/UC Davis)\n",
    "\n",
    "raw_shell <- read_csv(\"https://raw.githubusercontent.com/laurelyne/group_28_project/main/data/abalone.csv\")\n",
    "raw_shell"
   ]
  },
  {
   "cell_type": "markdown",
   "id": "8466a6d7",
   "metadata": {},
   "source": [
    "**2. Clean and wrangle your data into a tidy format:**\n",
    "\n",
    "Data is already tidy.\n"
   ]
  },
  {
   "cell_type": "code",
   "execution_count": 4,
   "id": "ee708478-0c46-44b1-9fde-300a60eb74ce",
   "metadata": {},
   "outputs": [
    {
     "data": {
      "text/html": [
       "<table class=\"dataframe\">\n",
       "<caption>A tibble: 4177 × 10</caption>\n",
       "<thead>\n",
       "\t<tr><th scope=col>sex</th><th scope=col>length</th><th scope=col>diameter</th><th scope=col>height</th><th scope=col>whole_weight</th><th scope=col>shucked_weight</th><th scope=col>viscera_weight</th><th scope=col>shell_weight</th><th scope=col>rings</th><th scope=col>age</th></tr>\n",
       "\t<tr><th scope=col>&lt;chr&gt;</th><th scope=col>&lt;dbl&gt;</th><th scope=col>&lt;dbl&gt;</th><th scope=col>&lt;dbl&gt;</th><th scope=col>&lt;dbl&gt;</th><th scope=col>&lt;dbl&gt;</th><th scope=col>&lt;dbl&gt;</th><th scope=col>&lt;dbl&gt;</th><th scope=col>&lt;dbl&gt;</th><th scope=col>&lt;dbl&gt;</th></tr>\n",
       "</thead>\n",
       "<tbody>\n",
       "\t<tr><td>M</td><td>0.455</td><td>0.365</td><td>0.095</td><td>0.5140</td><td>0.2245</td><td>0.1010</td><td>0.15</td><td>15</td><td>16.5</td></tr>\n",
       "\t<tr><td>M</td><td>0.350</td><td>0.265</td><td>0.090</td><td>0.2255</td><td>0.0995</td><td>0.0485</td><td>0.07</td><td> 7</td><td> 8.5</td></tr>\n",
       "\t<tr><td>F</td><td>0.530</td><td>0.420</td><td>0.135</td><td>0.6770</td><td>0.2565</td><td>0.1415</td><td>0.21</td><td> 9</td><td>10.5</td></tr>\n",
       "\t<tr><td>⋮</td><td>⋮</td><td>⋮</td><td>⋮</td><td>⋮</td><td>⋮</td><td>⋮</td><td>⋮</td><td>⋮</td><td>⋮</td></tr>\n",
       "\t<tr><td>M</td><td>0.600</td><td>0.475</td><td>0.205</td><td>1.1760</td><td>0.5255</td><td>0.2875</td><td>0.308</td><td> 9</td><td>10.5</td></tr>\n",
       "\t<tr><td>F</td><td>0.625</td><td>0.485</td><td>0.150</td><td>1.0945</td><td>0.5310</td><td>0.2610</td><td>0.296</td><td>10</td><td>11.5</td></tr>\n",
       "\t<tr><td>M</td><td>0.710</td><td>0.555</td><td>0.195</td><td>1.9485</td><td>0.9455</td><td>0.3765</td><td>0.495</td><td>12</td><td>13.5</td></tr>\n",
       "</tbody>\n",
       "</table>\n"
      ],
      "text/latex": [
       "A tibble: 4177 × 10\n",
       "\\begin{tabular}{llllllllll}\n",
       " sex & length & diameter & height & whole\\_weight & shucked\\_weight & viscera\\_weight & shell\\_weight & rings & age\\\\\n",
       " <chr> & <dbl> & <dbl> & <dbl> & <dbl> & <dbl> & <dbl> & <dbl> & <dbl> & <dbl>\\\\\n",
       "\\hline\n",
       "\t M & 0.455 & 0.365 & 0.095 & 0.5140 & 0.2245 & 0.1010 & 0.15 & 15 & 16.5\\\\\n",
       "\t M & 0.350 & 0.265 & 0.090 & 0.2255 & 0.0995 & 0.0485 & 0.07 &  7 &  8.5\\\\\n",
       "\t F & 0.530 & 0.420 & 0.135 & 0.6770 & 0.2565 & 0.1415 & 0.21 &  9 & 10.5\\\\\n",
       "\t ⋮ & ⋮ & ⋮ & ⋮ & ⋮ & ⋮ & ⋮ & ⋮ & ⋮ & ⋮\\\\\n",
       "\t M & 0.600 & 0.475 & 0.205 & 1.1760 & 0.5255 & 0.2875 & 0.308 &  9 & 10.5\\\\\n",
       "\t F & 0.625 & 0.485 & 0.150 & 1.0945 & 0.5310 & 0.2610 & 0.296 & 10 & 11.5\\\\\n",
       "\t M & 0.710 & 0.555 & 0.195 & 1.9485 & 0.9455 & 0.3765 & 0.495 & 12 & 13.5\\\\\n",
       "\\end{tabular}\n"
      ],
      "text/markdown": [
       "\n",
       "A tibble: 4177 × 10\n",
       "\n",
       "| sex &lt;chr&gt; | length &lt;dbl&gt; | diameter &lt;dbl&gt; | height &lt;dbl&gt; | whole_weight &lt;dbl&gt; | shucked_weight &lt;dbl&gt; | viscera_weight &lt;dbl&gt; | shell_weight &lt;dbl&gt; | rings &lt;dbl&gt; | age &lt;dbl&gt; |\n",
       "|---|---|---|---|---|---|---|---|---|---|\n",
       "| M | 0.455 | 0.365 | 0.095 | 0.5140 | 0.2245 | 0.1010 | 0.15 | 15 | 16.5 |\n",
       "| M | 0.350 | 0.265 | 0.090 | 0.2255 | 0.0995 | 0.0485 | 0.07 |  7 |  8.5 |\n",
       "| F | 0.530 | 0.420 | 0.135 | 0.6770 | 0.2565 | 0.1415 | 0.21 |  9 | 10.5 |\n",
       "| ⋮ | ⋮ | ⋮ | ⋮ | ⋮ | ⋮ | ⋮ | ⋮ | ⋮ | ⋮ |\n",
       "| M | 0.600 | 0.475 | 0.205 | 1.1760 | 0.5255 | 0.2875 | 0.308 |  9 | 10.5 |\n",
       "| F | 0.625 | 0.485 | 0.150 | 1.0945 | 0.5310 | 0.2610 | 0.296 | 10 | 11.5 |\n",
       "| M | 0.710 | 0.555 | 0.195 | 1.9485 | 0.9455 | 0.3765 | 0.495 | 12 | 13.5 |\n",
       "\n"
      ],
      "text/plain": [
       "     sex length diameter height whole_weight shucked_weight viscera_weight\n",
       "1    M   0.455  0.365    0.095  0.5140       0.2245         0.1010        \n",
       "2    M   0.350  0.265    0.090  0.2255       0.0995         0.0485        \n",
       "3    F   0.530  0.420    0.135  0.6770       0.2565         0.1415        \n",
       "⋮    ⋮   ⋮      ⋮        ⋮      ⋮            ⋮              ⋮             \n",
       "4175 M   0.600  0.475    0.205  1.1760       0.5255         0.2875        \n",
       "4176 F   0.625  0.485    0.150  1.0945       0.5310         0.2610        \n",
       "4177 M   0.710  0.555    0.195  1.9485       0.9455         0.3765        \n",
       "     shell_weight rings age \n",
       "1    0.15         15    16.5\n",
       "2    0.07          7     8.5\n",
       "3    0.21          9    10.5\n",
       "⋮    ⋮            ⋮     ⋮   \n",
       "4175 0.308         9    10.5\n",
       "4176 0.296        10    11.5\n",
       "4177 0.495        12    13.5"
      ]
     },
     "metadata": {},
     "output_type": "display_data"
    }
   ],
   "source": [
    "#lowercase column names & rid of spaces\n",
    "names(raw_shell) <- tolower(names(raw_shell))\n",
    "shell <- rename(raw_shell, \"whole_weight\" = \"whole weight\",\"shucked_weight\" = \"shucked weight\", \"viscera_weight\" =\n",
    "        \"viscera weight\", \"shell_weight\" = \"shell weight\")\n",
    "\n",
    "#adding an age column, knowing that age in years = number of rings + 1.5.\n",
    "shell <- mutate(shell, age = rings + 1.5)\n",
    "shell\n"
   ]
  },
  {
   "cell_type": "markdown",
   "id": "7f88aea5",
   "metadata": {},
   "source": [
    "**3. Initial split and**\n",
    "\n",
    "**4. Exploratory summary**\n",
    "\n",
    "Using only training data, summarize the data in at least one table (this is exploratory data analysis). An example of a useful table could be one that reports the number of observations in each class, the means of the predictor variables you plan to use in your analysis and how many rows have missing data.\n"
   ]
  },
  {
   "cell_type": "code",
   "execution_count": 5,
   "id": "e1277717",
   "metadata": {},
   "outputs": [
    {
     "data": {
      "text/html": [
       "<table class=\"dataframe\">\n",
       "<caption>A tibble: 3131 × 10</caption>\n",
       "<thead>\n",
       "\t<tr><th scope=col>sex</th><th scope=col>length</th><th scope=col>diameter</th><th scope=col>height</th><th scope=col>whole_weight</th><th scope=col>shucked_weight</th><th scope=col>viscera_weight</th><th scope=col>shell_weight</th><th scope=col>rings</th><th scope=col>age</th></tr>\n",
       "\t<tr><th scope=col>&lt;chr&gt;</th><th scope=col>&lt;dbl&gt;</th><th scope=col>&lt;dbl&gt;</th><th scope=col>&lt;dbl&gt;</th><th scope=col>&lt;dbl&gt;</th><th scope=col>&lt;dbl&gt;</th><th scope=col>&lt;dbl&gt;</th><th scope=col>&lt;dbl&gt;</th><th scope=col>&lt;dbl&gt;</th><th scope=col>&lt;dbl&gt;</th></tr>\n",
       "</thead>\n",
       "<tbody>\n",
       "\t<tr><td>M</td><td>0.350</td><td>0.265</td><td>0.090</td><td>0.2255</td><td>0.0995</td><td>0.0485</td><td>0.070</td><td>7</td><td>8.5</td></tr>\n",
       "\t<tr><td>I</td><td>0.425</td><td>0.300</td><td>0.095</td><td>0.3515</td><td>0.1410</td><td>0.0775</td><td>0.120</td><td>8</td><td>9.5</td></tr>\n",
       "\t<tr><td>I</td><td>0.355</td><td>0.280</td><td>0.085</td><td>0.2905</td><td>0.0950</td><td>0.0395</td><td>0.115</td><td>7</td><td>8.5</td></tr>\n",
       "\t<tr><td>⋮</td><td>⋮</td><td>⋮</td><td>⋮</td><td>⋮</td><td>⋮</td><td>⋮</td><td>⋮</td><td>⋮</td><td>⋮</td></tr>\n",
       "\t<tr><td>M</td><td>0.630</td><td>0.53</td><td>0.175</td><td>1.4135</td><td>0.667</td><td>0.2945</td><td>0.3555</td><td>13</td><td>14.5</td></tr>\n",
       "\t<tr><td>F</td><td>0.635</td><td>0.50</td><td>0.175</td><td>1.4770</td><td>0.684</td><td>0.3005</td><td>0.3900</td><td>12</td><td>13.5</td></tr>\n",
       "\t<tr><td>F</td><td>0.655</td><td>0.50</td><td>0.220</td><td>1.3590</td><td>0.642</td><td>0.3255</td><td>0.4050</td><td>13</td><td>14.5</td></tr>\n",
       "</tbody>\n",
       "</table>\n"
      ],
      "text/latex": [
       "A tibble: 3131 × 10\n",
       "\\begin{tabular}{llllllllll}\n",
       " sex & length & diameter & height & whole\\_weight & shucked\\_weight & viscera\\_weight & shell\\_weight & rings & age\\\\\n",
       " <chr> & <dbl> & <dbl> & <dbl> & <dbl> & <dbl> & <dbl> & <dbl> & <dbl> & <dbl>\\\\\n",
       "\\hline\n",
       "\t M & 0.350 & 0.265 & 0.090 & 0.2255 & 0.0995 & 0.0485 & 0.070 & 7 & 8.5\\\\\n",
       "\t I & 0.425 & 0.300 & 0.095 & 0.3515 & 0.1410 & 0.0775 & 0.120 & 8 & 9.5\\\\\n",
       "\t I & 0.355 & 0.280 & 0.085 & 0.2905 & 0.0950 & 0.0395 & 0.115 & 7 & 8.5\\\\\n",
       "\t ⋮ & ⋮ & ⋮ & ⋮ & ⋮ & ⋮ & ⋮ & ⋮ & ⋮ & ⋮\\\\\n",
       "\t M & 0.630 & 0.53 & 0.175 & 1.4135 & 0.667 & 0.2945 & 0.3555 & 13 & 14.5\\\\\n",
       "\t F & 0.635 & 0.50 & 0.175 & 1.4770 & 0.684 & 0.3005 & 0.3900 & 12 & 13.5\\\\\n",
       "\t F & 0.655 & 0.50 & 0.220 & 1.3590 & 0.642 & 0.3255 & 0.4050 & 13 & 14.5\\\\\n",
       "\\end{tabular}\n"
      ],
      "text/markdown": [
       "\n",
       "A tibble: 3131 × 10\n",
       "\n",
       "| sex &lt;chr&gt; | length &lt;dbl&gt; | diameter &lt;dbl&gt; | height &lt;dbl&gt; | whole_weight &lt;dbl&gt; | shucked_weight &lt;dbl&gt; | viscera_weight &lt;dbl&gt; | shell_weight &lt;dbl&gt; | rings &lt;dbl&gt; | age &lt;dbl&gt; |\n",
       "|---|---|---|---|---|---|---|---|---|---|\n",
       "| M | 0.350 | 0.265 | 0.090 | 0.2255 | 0.0995 | 0.0485 | 0.070 | 7 | 8.5 |\n",
       "| I | 0.425 | 0.300 | 0.095 | 0.3515 | 0.1410 | 0.0775 | 0.120 | 8 | 9.5 |\n",
       "| I | 0.355 | 0.280 | 0.085 | 0.2905 | 0.0950 | 0.0395 | 0.115 | 7 | 8.5 |\n",
       "| ⋮ | ⋮ | ⋮ | ⋮ | ⋮ | ⋮ | ⋮ | ⋮ | ⋮ | ⋮ |\n",
       "| M | 0.630 | 0.53 | 0.175 | 1.4135 | 0.667 | 0.2945 | 0.3555 | 13 | 14.5 |\n",
       "| F | 0.635 | 0.50 | 0.175 | 1.4770 | 0.684 | 0.3005 | 0.3900 | 12 | 13.5 |\n",
       "| F | 0.655 | 0.50 | 0.220 | 1.3590 | 0.642 | 0.3255 | 0.4050 | 13 | 14.5 |\n",
       "\n"
      ],
      "text/plain": [
       "     sex length diameter height whole_weight shucked_weight viscera_weight\n",
       "1    M   0.350  0.265    0.090  0.2255       0.0995         0.0485        \n",
       "2    I   0.425  0.300    0.095  0.3515       0.1410         0.0775        \n",
       "3    I   0.355  0.280    0.085  0.2905       0.0950         0.0395        \n",
       "⋮    ⋮   ⋮      ⋮        ⋮      ⋮            ⋮              ⋮             \n",
       "3129 M   0.630  0.53     0.175  1.4135       0.667          0.2945        \n",
       "3130 F   0.635  0.50     0.175  1.4770       0.684          0.3005        \n",
       "3131 F   0.655  0.50     0.220  1.3590       0.642          0.3255        \n",
       "     shell_weight rings age \n",
       "1    0.070        7     8.5 \n",
       "2    0.120        8     9.5 \n",
       "3    0.115        7     8.5 \n",
       "⋮    ⋮            ⋮     ⋮   \n",
       "3129 0.3555       13    14.5\n",
       "3130 0.3900       12    13.5\n",
       "3131 0.4050       13    14.5"
      ]
     },
     "metadata": {},
     "output_type": "display_data"
    },
    {
     "data": {
      "text/html": [
       "<table class=\"dataframe\">\n",
       "<caption>A tibble: 1046 × 10</caption>\n",
       "<thead>\n",
       "\t<tr><th scope=col>sex</th><th scope=col>length</th><th scope=col>diameter</th><th scope=col>height</th><th scope=col>whole_weight</th><th scope=col>shucked_weight</th><th scope=col>viscera_weight</th><th scope=col>shell_weight</th><th scope=col>rings</th><th scope=col>age</th></tr>\n",
       "\t<tr><th scope=col>&lt;chr&gt;</th><th scope=col>&lt;dbl&gt;</th><th scope=col>&lt;dbl&gt;</th><th scope=col>&lt;dbl&gt;</th><th scope=col>&lt;dbl&gt;</th><th scope=col>&lt;dbl&gt;</th><th scope=col>&lt;dbl&gt;</th><th scope=col>&lt;dbl&gt;</th><th scope=col>&lt;dbl&gt;</th><th scope=col>&lt;dbl&gt;</th></tr>\n",
       "</thead>\n",
       "<tbody>\n",
       "\t<tr><td>I</td><td>0.33</td><td>0.255</td><td>0.08</td><td>0.2050</td><td>0.0895</td><td>0.0395</td><td>0.055</td><td> 7</td><td> 8.5</td></tr>\n",
       "\t<tr><td>F</td><td>0.53</td><td>0.415</td><td>0.15</td><td>0.7775</td><td>0.2370</td><td>0.1415</td><td>0.330</td><td>20</td><td>21.5</td></tr>\n",
       "\t<tr><td>M</td><td>0.43</td><td>0.350</td><td>0.11</td><td>0.4060</td><td>0.1675</td><td>0.0810</td><td>0.135</td><td>10</td><td>11.5</td></tr>\n",
       "\t<tr><td>⋮</td><td>⋮</td><td>⋮</td><td>⋮</td><td>⋮</td><td>⋮</td><td>⋮</td><td>⋮</td><td>⋮</td><td>⋮</td></tr>\n",
       "\t<tr><td>M</td><td>0.520</td><td>0.385</td><td>0.165</td><td>0.7910</td><td>0.3750</td><td>0.1800</td><td>0.1815</td><td>10</td><td>11.5</td></tr>\n",
       "\t<tr><td>F</td><td>0.625</td><td>0.485</td><td>0.150</td><td>1.0945</td><td>0.5310</td><td>0.2610</td><td>0.2960</td><td>10</td><td>11.5</td></tr>\n",
       "\t<tr><td>M</td><td>0.710</td><td>0.555</td><td>0.195</td><td>1.9485</td><td>0.9455</td><td>0.3765</td><td>0.4950</td><td>12</td><td>13.5</td></tr>\n",
       "</tbody>\n",
       "</table>\n"
      ],
      "text/latex": [
       "A tibble: 1046 × 10\n",
       "\\begin{tabular}{llllllllll}\n",
       " sex & length & diameter & height & whole\\_weight & shucked\\_weight & viscera\\_weight & shell\\_weight & rings & age\\\\\n",
       " <chr> & <dbl> & <dbl> & <dbl> & <dbl> & <dbl> & <dbl> & <dbl> & <dbl> & <dbl>\\\\\n",
       "\\hline\n",
       "\t I & 0.33 & 0.255 & 0.08 & 0.2050 & 0.0895 & 0.0395 & 0.055 &  7 &  8.5\\\\\n",
       "\t F & 0.53 & 0.415 & 0.15 & 0.7775 & 0.2370 & 0.1415 & 0.330 & 20 & 21.5\\\\\n",
       "\t M & 0.43 & 0.350 & 0.11 & 0.4060 & 0.1675 & 0.0810 & 0.135 & 10 & 11.5\\\\\n",
       "\t ⋮ & ⋮ & ⋮ & ⋮ & ⋮ & ⋮ & ⋮ & ⋮ & ⋮ & ⋮\\\\\n",
       "\t M & 0.520 & 0.385 & 0.165 & 0.7910 & 0.3750 & 0.1800 & 0.1815 & 10 & 11.5\\\\\n",
       "\t F & 0.625 & 0.485 & 0.150 & 1.0945 & 0.5310 & 0.2610 & 0.2960 & 10 & 11.5\\\\\n",
       "\t M & 0.710 & 0.555 & 0.195 & 1.9485 & 0.9455 & 0.3765 & 0.4950 & 12 & 13.5\\\\\n",
       "\\end{tabular}\n"
      ],
      "text/markdown": [
       "\n",
       "A tibble: 1046 × 10\n",
       "\n",
       "| sex &lt;chr&gt; | length &lt;dbl&gt; | diameter &lt;dbl&gt; | height &lt;dbl&gt; | whole_weight &lt;dbl&gt; | shucked_weight &lt;dbl&gt; | viscera_weight &lt;dbl&gt; | shell_weight &lt;dbl&gt; | rings &lt;dbl&gt; | age &lt;dbl&gt; |\n",
       "|---|---|---|---|---|---|---|---|---|---|\n",
       "| I | 0.33 | 0.255 | 0.08 | 0.2050 | 0.0895 | 0.0395 | 0.055 |  7 |  8.5 |\n",
       "| F | 0.53 | 0.415 | 0.15 | 0.7775 | 0.2370 | 0.1415 | 0.330 | 20 | 21.5 |\n",
       "| M | 0.43 | 0.350 | 0.11 | 0.4060 | 0.1675 | 0.0810 | 0.135 | 10 | 11.5 |\n",
       "| ⋮ | ⋮ | ⋮ | ⋮ | ⋮ | ⋮ | ⋮ | ⋮ | ⋮ | ⋮ |\n",
       "| M | 0.520 | 0.385 | 0.165 | 0.7910 | 0.3750 | 0.1800 | 0.1815 | 10 | 11.5 |\n",
       "| F | 0.625 | 0.485 | 0.150 | 1.0945 | 0.5310 | 0.2610 | 0.2960 | 10 | 11.5 |\n",
       "| M | 0.710 | 0.555 | 0.195 | 1.9485 | 0.9455 | 0.3765 | 0.4950 | 12 | 13.5 |\n",
       "\n"
      ],
      "text/plain": [
       "     sex length diameter height whole_weight shucked_weight viscera_weight\n",
       "1    I   0.33   0.255    0.08   0.2050       0.0895         0.0395        \n",
       "2    F   0.53   0.415    0.15   0.7775       0.2370         0.1415        \n",
       "3    M   0.43   0.350    0.11   0.4060       0.1675         0.0810        \n",
       "⋮    ⋮   ⋮      ⋮        ⋮      ⋮            ⋮              ⋮             \n",
       "1044 M   0.520  0.385    0.165  0.7910       0.3750         0.1800        \n",
       "1045 F   0.625  0.485    0.150  1.0945       0.5310         0.2610        \n",
       "1046 M   0.710  0.555    0.195  1.9485       0.9455         0.3765        \n",
       "     shell_weight rings age \n",
       "1    0.055         7     8.5\n",
       "2    0.330        20    21.5\n",
       "3    0.135        10    11.5\n",
       "⋮    ⋮            ⋮     ⋮   \n",
       "1044 0.1815       10    11.5\n",
       "1045 0.2960       10    11.5\n",
       "1046 0.4950       12    13.5"
      ]
     },
     "metadata": {},
     "output_type": "display_data"
    }
   ],
   "source": [
    "#splitting the data into a training and testing set\n",
    "\n",
    "shell_split <- initial_split(shell, prop = 0.75, strata = age)  \n",
    "shell_train <- training(shell_split)\n",
    "shell_test <- testing(shell_split)\n",
    "\n",
    "shell_train\n",
    "shell_test\n"
   ]
  },
  {
   "cell_type": "code",
   "execution_count": 6,
   "id": "27ffdbc5-2533-4e88-9e70-fb3f1427d428",
   "metadata": {},
   "outputs": [
    {
     "data": {
      "text/html": [
       "<table class=\"dataframe\">\n",
       "<caption>A tibble: 3 × 2</caption>\n",
       "<thead>\n",
       "\t<tr><th scope=col>sex</th><th scope=col>count</th></tr>\n",
       "\t<tr><th scope=col>&lt;chr&gt;</th><th scope=col>&lt;int&gt;</th></tr>\n",
       "</thead>\n",
       "<tbody>\n",
       "\t<tr><td>F</td><td> 983</td></tr>\n",
       "\t<tr><td>I</td><td>1008</td></tr>\n",
       "\t<tr><td>M</td><td>1140</td></tr>\n",
       "</tbody>\n",
       "</table>\n"
      ],
      "text/latex": [
       "A tibble: 3 × 2\n",
       "\\begin{tabular}{ll}\n",
       " sex & count\\\\\n",
       " <chr> & <int>\\\\\n",
       "\\hline\n",
       "\t F &  983\\\\\n",
       "\t I & 1008\\\\\n",
       "\t M & 1140\\\\\n",
       "\\end{tabular}\n"
      ],
      "text/markdown": [
       "\n",
       "A tibble: 3 × 2\n",
       "\n",
       "| sex &lt;chr&gt; | count &lt;int&gt; |\n",
       "|---|---|\n",
       "| F |  983 |\n",
       "| I | 1008 |\n",
       "| M | 1140 |\n",
       "\n"
      ],
      "text/plain": [
       "  sex count\n",
       "1 F    983 \n",
       "2 I   1008 \n",
       "3 M   1140 "
      ]
     },
     "metadata": {},
     "output_type": "display_data"
    },
    {
     "data": {
      "text/html": [
       "<table class=\"dataframe\">\n",
       "<caption>A tibble: 1 × 7</caption>\n",
       "<thead>\n",
       "\t<tr><th scope=col>length</th><th scope=col>diameter</th><th scope=col>height</th><th scope=col>whole_weight</th><th scope=col>shucked_weight</th><th scope=col>viscera_weight</th><th scope=col>shell_weight</th></tr>\n",
       "\t<tr><th scope=col>&lt;dbl&gt;</th><th scope=col>&lt;dbl&gt;</th><th scope=col>&lt;dbl&gt;</th><th scope=col>&lt;dbl&gt;</th><th scope=col>&lt;dbl&gt;</th><th scope=col>&lt;dbl&gt;</th><th scope=col>&lt;dbl&gt;</th></tr>\n",
       "</thead>\n",
       "<tbody>\n",
       "\t<tr><td>0.5241137</td><td>0.4079831</td><td>0.1394714</td><td>0.8285594</td><td>0.3588167</td><td>0.1805597</td><td>0.2391822</td></tr>\n",
       "</tbody>\n",
       "</table>\n"
      ],
      "text/latex": [
       "A tibble: 1 × 7\n",
       "\\begin{tabular}{lllllll}\n",
       " length & diameter & height & whole\\_weight & shucked\\_weight & viscera\\_weight & shell\\_weight\\\\\n",
       " <dbl> & <dbl> & <dbl> & <dbl> & <dbl> & <dbl> & <dbl>\\\\\n",
       "\\hline\n",
       "\t 0.5241137 & 0.4079831 & 0.1394714 & 0.8285594 & 0.3588167 & 0.1805597 & 0.2391822\\\\\n",
       "\\end{tabular}\n"
      ],
      "text/markdown": [
       "\n",
       "A tibble: 1 × 7\n",
       "\n",
       "| length &lt;dbl&gt; | diameter &lt;dbl&gt; | height &lt;dbl&gt; | whole_weight &lt;dbl&gt; | shucked_weight &lt;dbl&gt; | viscera_weight &lt;dbl&gt; | shell_weight &lt;dbl&gt; |\n",
       "|---|---|---|---|---|---|---|\n",
       "| 0.5241137 | 0.4079831 | 0.1394714 | 0.8285594 | 0.3588167 | 0.1805597 | 0.2391822 |\n",
       "\n"
      ],
      "text/plain": [
       "  length    diameter  height    whole_weight shucked_weight viscera_weight\n",
       "1 0.5241137 0.4079831 0.1394714 0.8285594    0.3588167      0.1805597     \n",
       "  shell_weight\n",
       "1 0.2391822   "
      ]
     },
     "metadata": {},
     "output_type": "display_data"
    }
   ],
   "source": [
    "#finding the number of observations of each sex\n",
    "shell_obs <- shell_train|>\n",
    "    group_by(sex)|>\n",
    "    summarize(count = n())\n",
    "shell_obs\n",
    "\n",
    "#finding means of numerical predictor variables\n",
    "\n",
    "shell_means <- shell_train |>\n",
    "    select(length:shell_weight)|>\n",
    "    map_df(mean)\n",
    "shell_means"
   ]
  },
  {
   "cell_type": "markdown",
   "id": "c33db881-fce7-4962-8e3a-fccfcd1f2c51",
   "metadata": {},
   "source": [
    "**5. Exploratory visualization**\n",
    "\n",
    "Using only training data, visualize the data with at least one plot relevant to the analysis you plan to do (this is exploratory data analysis). An example of a useful visualization could be one that compares the distributions of each of the predictor variables you plan to use in your analysis.\n"
   ]
  },
  {
   "cell_type": "code",
   "execution_count": 7,
   "id": "f2e7220e-75cd-4b47-8b8f-ffc0e8cae687",
   "metadata": {},
   "outputs": [
    {
     "data": {
      "image/png": "[encoded data removed]",
      "text/plain": [
       "plot without title"
      ]
     },
     "metadata": {
      "image/png": {
       "height": 420,
       "width": 420
      }
     },
     "output_type": "display_data"
    }
   ],
   "source": [
    "#creating a plot to evaluate length as an age predictor (taking sex into account)\n",
    "\n",
    "comparative_plot_length <- shell_train|>\n",
    "    ggplot(aes(x = length, y = age)) +\n",
    "           geom_point(aes(color = sex, shape = sex)) +\n",
    "    labs(x = \"Length (mm)\", y = \"Age (years)\", color = \"Sex\", shape = \"Sex\") +\n",
    "    ggtitle(\"Abalone Age vs Length\") +\n",
    "    theme(text = element_text(size = 18))\n",
    "comparative_plot_length"
   ]
  },
  {
   "cell_type": "code",
   "execution_count": 8,
   "id": "0b0cc7b5-1414-4491-b499-2e9918ce7ca0",
   "metadata": {},
   "outputs": [
    {
     "data": {
      "image/png": "[encoded data removed]",
      "text/plain": [
       "plot without title"
      ]
     },
     "metadata": {
      "image/png": {
       "height": 420,
       "width": 420
      }
     },
     "output_type": "display_data"
    }
   ],
   "source": [
    "#creating a plot to evaluate diameter as an age predictor (taking sex into account)\n",
    "\n",
    "comparative_plot_diameter <- shell_train|>\n",
    "    ggplot(aes(x = diameter, y = age)) +\n",
    "           geom_point(aes(color = sex, shape = sex)) +\n",
    "    labs(x = \"Diameter (mm)\", y = \"Age (years)\", color = \"Sex\", shape = \"Sex\") +\n",
    "    ggtitle(\"Abalone Age vs Diameter\") +\n",
    "    theme(text = element_text(size = 18))\n",
    "comparative_plot_diameter"
   ]
  },
  {
   "cell_type": "code",
   "execution_count": null,
   "id": "402be2ce-b43f-4165-8a93-7f7bbc2f7a90",
   "metadata": {},
   "outputs": [],
   "source": [
    "#creating a plot to evaluate height as an age predictor (taking sex into account)\n",
    "\n",
    "comparative_plot_height <- shell_train|>\n",
    "    ggplot(aes(x = height, y = age)) +\n",
    "           geom_point(aes(color = sex, shape = sex)) +\n",
    "    labs(x = \"Height (mm)\", y = \"Age (years)\", color = \"Sex\", shape = \"Sex\") +\n",
    "    ggtitle(\"Abalone Age vs Height\") +\n",
    "    theme(text = element_text(size = 18))\n",
    "comparative_plot_height"
   ]
  },
  {
   "cell_type": "code",
   "execution_count": null,
   "id": "15d858ba-e9a0-4ba3-bc6f-4ab64bc69fe3",
   "metadata": {},
   "outputs": [],
   "source": [
    "#creating a plot to evaluate whole weight as an age predictor (taking sex into account)\n",
    "\n",
    "comparative_plot_whole_weight <- shell_train|>\n",
    "    ggplot(aes(x = whole_weight, y = age)) +\n",
    "           geom_point(aes(color = sex, shape = sex)) +\n",
    "    labs(x = \"Whole weight (g)\", y = \"Age (years)\", color = \"Sex\", shape = \"Sex\") +\n",
    "    ggtitle(\"Abalone Age vs Whole Weight\") +\n",
    "    theme(text = element_text(size = 18))\n",
    "comparative_plot_whole_weight"
   ]
  },
  {
   "cell_type": "code",
   "execution_count": null,
   "id": "e36eb4d0-fe13-412e-833c-f94e32bbc28e",
   "metadata": {},
   "outputs": [],
   "source": [
    "#creating a plot to evaluate shucked length as an age predictor (taking sex into account)\n",
    "\n",
    "comparative_plot_shucked_weight <- shell_train|>\n",
    "    ggplot(aes(x = shucked_weight, y = age)) +\n",
    "           geom_point(aes(color = sex, shape = sex)) +\n",
    "    labs(x = \"Shucked weight (g)\", y = \"Age (years)\", color = \"Sex\", shape = \"Sex\") +\n",
    "    ggtitle(\"Abalone Age vs Shucked Weight\") +\n",
    "    theme(text = element_text(size = 18))\n",
    "comparative_plot_shucked_weight"
   ]
  },
  {
   "cell_type": "code",
   "execution_count": null,
   "id": "3392d482-fe81-454b-b978-3750586d73ea",
   "metadata": {},
   "outputs": [],
   "source": [
    "#creating a plot to evaluate viscera weight as an age predictor (taking sex into account)\n",
    "\n",
    "comparative_plot_viscera_weight <- shell_train|>\n",
    "    ggplot(aes(x = viscera_weight, y = age)) +\n",
    "           geom_point(aes(color = sex, shape = sex)) +\n",
    "    labs(x = \"Viscera weight (g)\", y = \"Age (years)\", color = \"Sex\", shape = \"Sex\") +\n",
    "    ggtitle(\"Abalone Age vs Viscera Weight\") +\n",
    "    theme(text = element_text(size = 18))\n",
    "comparative_plot_viscera_weight"
   ]
  },
  {
   "cell_type": "code",
   "execution_count": null,
   "id": "6008891b-d65f-4bcf-b8e5-0a9f171ca08f",
   "metadata": {},
   "outputs": [],
   "source": [
    "#creating a plot to evaluate shell weight as an age predictor (taking sex into account)\n",
    "\n",
    "comparative_plot_shell_weight <- shell_train|>\n",
    "    ggplot(aes(x = shell_weight, y = age)) +\n",
    "           geom_point(aes(color = sex, shape = sex)) +\n",
    "    labs(x = \"Shell weight (g)\", y = \"Age (years)\", color = \"Sex\", shape = \"Sex\") +\n",
    "    ggtitle(\"Abalone Age vs Shell Weight\") +\n",
    "    theme(text = element_text(size = 18))\n",
    "comparative_plot_shell_weight"
   ]
  },
  {
   "cell_type": "markdown",
   "id": "3f8b268c-8408-403e-b436-21d49dfa0c85",
   "metadata": {},
   "source": [
    "**Methods**\n",
    "\n",
    "The dataset we are using answer this question give various statistics on the physical\n",
    "characteristics of 4178 different mollusks (Kaggle, n.d.).\n",
    "\n",
    "The characteristics associated with this data set include:\n",
    "• Length\n",
    "• Diameter\n",
    "• Height\n",
    "• Whole weight\n",
    "• Shucked weight\n",
    "• Viscera weight (this is the gut weight after bleeding)\n",
    "• Shell weight (after being dried)\n",
    "• Number of rings of these mollusks.\n",
    "• Sex (categorical variable) - male, female, or infant (infant is a category because mollusks can\n",
    "switch sexes)\n",
    "\n",
    "✴The variable age, which is the number of rings plus 1.5 (Nash & Sellers, 1994), was added.\n",
    "\n",
    "1. The data was loaded from an original source\n",
    "2. The data was already tidy so no wrangling procedures were conducted. However, a new variable, age = rings + 1.5 was added.\n",
    "2. The initial_split() function was utilized to split our data frame into 75% training and 25% testing data.\n",
    "3. A summary of the dataset, which was useful for the exploratory analysis was performed:\n",
    "    - To compute the count based on the categorical variable sex, the group_by() and summarize() function combination was employed.\n",
    "    - The previous step enabled the use of the map_df() function to calculate the mean for the variables in our new data frame.\n",
    "5. A visualization of the dataset, which was useful for exploratory analysis was performed earlier:\n",
    "    - To identify the best predictors to use in the investigation, scatterplots of the different physical characteristics and age were generated.\n",
    "    - This preliminary analysis indicated that length and diameter are the greatest predictors for the age of abalones. These characteristics are also associated with the ring-age associated procedure outlined in the introduction; a larger shell has space for more rings, and therefore, is likely older.\n",
    "7. These variables will be used in a multivariable KNN regression.\n",
    "8. The accuracy of the model will be assessed using the testing dataset.\n",
    "9. Knowing that, the following outcomes and significance were formulated:"
   ]
  },
  {
   "cell_type": "markdown",
   "id": "a31d4a84-ac21-4804-9205-a4dc2605a04b",
   "metadata": {},
   "source": [
    "**Expected outcomes and significance**\n",
    "\n",
    "_What do you expect to find?_  \n",
    "We expect to find a positive relationship length and diameter and age of the abalones/number of rings (potentially including the other measurements) that can be used to build a model to predict the age of a new specimen. This prediction is based on the common trend of most (but not all) organisms experiencing greatest positive changes in those dimensions as they grow in age. Studies of mollusc growth similarly support this correlation between mollusk age and shell size (Ridgway, 2010). We hope to find a moderate to strong relationship between these predictor factors and age in order using regression analysis. \n",
    "Although we expect to find a moderate-to-strong correlation between a predictive attribute (mainly length and diameter but potentially the other measurements) and age in abalones, an accuracy analysis of the regression model based on the dataset will be necessary in order to confirm this is the case.\n",
    "\n",
    "_What impact could such findings have?_  \n",
    "These findings may allow the use of a predictive model estimating as accurately as possible the age of abalones without having to split open their shells and count their rings. Although less precise than manually counting, this method of acquiring abalone age would be much more efficient since our predictive attributes are much easier to measure (Nash & Sellers, 1994). Additionally, using a predicting model for aging is less destructive for the endangered abalone compared to the alternative method.   \n",
    "Since physical growth and age are important data points for informing population dynamics of abalones (especially considering there might be preferences in size and age by fisheries), our findings might allow fisheries and conservationists to make more informed decisions regarding the harvesting and protection of abalones. In addition, age determination is pivotal to abalone restoration because it provides insight into the groups of abalones that are most susceptible to fishing (likely older individuals due to their size). The age structure of the populations can then be compared to stable populations to inform scientists what actions need to be taken (ie. Fishing bans on abalones of specified dimensions). When considering the implications of this project in a broader context, we learn that this predictive model can foster conservation of abalones and create paths for more sustainable mollusc farming."
   ]
  },
  {
   "cell_type": "markdown",
   "id": "e6238b68-4b62-4a67-b20a-4812ab129167",
   "metadata": {},
   "source": [
    "**Analysis**"
   ]
  },
  {
   "cell_type": "code",
   "execution_count": null,
   "id": "71e61767-41bc-4d1d-b923-8c9bab5a8dec",
   "metadata": {},
   "outputs": [],
   "source": [
    "#Linear regression with length as the predictor\n",
    "lm_spec_length <- linear_reg() |>\n",
    "set_engine(\"lm\") |>\n",
    "set_mode(\"regression\")\n",
    "\n",
    "lm_recipe_length <- recipe(age~length, data=shell_train)\n",
    "\n",
    "lm_fit_length <- workflow() |> \n",
    "add_recipe(lm_recipe_length) |>\n",
    "add_model(lm_spec_length) |>\n",
    "fit(data=shell_train)\n",
    "\n",
    "lm_test_results_length <- lm_fit_length |>\n",
    "predict(shell_test) |>\n",
    "bind_cols(shell_test) |>\n",
    "metrics(truth=age, estimate=.pred) |>\n",
    "filter(.metric==\"rmse\")\n",
    "\n",
    "lm_test_results_length"
   ]
  },
  {
   "cell_type": "code",
   "execution_count": null,
   "id": "473670e2-3cc1-4193-b64e-a0b687f752aa",
   "metadata": {},
   "outputs": [],
   "source": [
    "#Linear regression with diameter as the predictor\n",
    "lm_spec_diameter <- linear_reg() |>\n",
    "set_engine(\"lm\") |>\n",
    "set_mode(\"regression\")\n",
    "\n",
    "lm_recipe_diameter <- recipe(age~diameter, data=shell_train)\n",
    "\n",
    "lm_fit_diameter <- workflow() |> \n",
    "add_recipe(lm_recipe_diameter) |>\n",
    "add_model(lm_spec_diameter) |>\n",
    "fit(data=shell_train)\n",
    "\n",
    "lm_test_results_diameter <- lm_fit_diameter |>\n",
    "predict(shell_test) |>\n",
    "bind_cols(shell_test) |>\n",
    "metrics(truth=age, estimate=.pred) |>\n",
    "filter(.metric==\"rmse\")\n",
    "\n",
    "\n",
    "lm_test_results_diameter"
   ]
  },
  {
   "cell_type": "code",
   "execution_count": null,
   "id": "6c93a80e-5561-40cf-a005-8649fc9a6e22",
   "metadata": {},
   "outputs": [],
   "source": [
    "#Linear regression with height as the predictor\n",
    "lm_spec_height <- linear_reg() |>\n",
    "set_engine(\"lm\") |>\n",
    "set_mode(\"regression\")\n",
    "\n",
    "lm_recipe_height <- recipe(age~height, data=shell_train)\n",
    "\n",
    "lm_fit_height <- workflow() |> \n",
    "add_recipe(lm_recipe_height) |>\n",
    "add_model(lm_spec_height) |>\n",
    "fit(data=shell_train)\n",
    "\n",
    "lm_test_results_height <- lm_fit_height |>\n",
    "predict(shell_test) |>\n",
    "bind_cols(shell_test) |>\n",
    "metrics(truth=age, estimate=.pred) |>\n",
    "filter(.metric==\"rmse\")\n",
    "\n",
    "\n",
    "lm_test_results_height"
   ]
  },
  {
   "cell_type": "code",
   "execution_count": null,
   "id": "6fe4fcf8-d833-40b0-af85-ac3f3fe68532",
   "metadata": {},
   "outputs": [],
   "source": [
    "#Linear regression with weight as the predictor\n",
    "lm_spec_weight <- linear_reg() |>\n",
    "set_engine(\"lm\") |>\n",
    "set_mode(\"regression\")\n",
    "\n",
    "lm_recipe_weight <- recipe(age~whole_weight, data=shell_train)\n",
    "\n",
    "lm_fit_weight <- workflow() |> \n",
    "add_recipe(lm_recipe_weight) |>\n",
    "add_model(lm_spec_weight) |>\n",
    "fit(data=shell_train)\n",
    "\n",
    "lm_test_results_weight <- lm_fit_weight |>\n",
    "predict(shell_test) |>\n",
    "bind_cols(shell_test) |>\n",
    "metrics(truth=age, estimate=.pred) |>\n",
    "filter(.metric==\"rmse\")\n",
    "\n",
    "\n",
    "lm_test_results_weight"
   ]
  },
  {
   "cell_type": "code",
   "execution_count": null,
   "id": "323e81d1-070f-4e51-97dc-0be70e4fb18d",
   "metadata": {},
   "outputs": [],
   "source": [
    "#Linear regression with length and diameter as the predictors\n",
    "lm_spec2 <- linear_reg() |>\n",
    "set_engine(\"lm\") |>\n",
    "set_mode(\"regression\")\n",
    "\n",
    "lm_recipe2 <- recipe(age~length+diameter, data=shell_train)\n",
    "\n",
    "lm_fit2 <- workflow() |> \n",
    "add_recipe(lm_recipe2) |>\n",
    "add_model(lm_spec2) |>\n",
    "fit(data=shell_train)\n",
    "\n",
    "lm_test_results2 <- lm_fit2 |>\n",
    "predict(shell_test) |>\n",
    "bind_cols(shell_test) |>\n",
    "metrics(truth=age, estimate=.pred) |>\n",
    "filter(.metric==\"rmse\")\n",
    "\n",
    "\n",
    "lm_test_results2"
   ]
  },
  {
   "cell_type": "code",
   "execution_count": null,
   "id": "e205db24-6ad6-4a74-91d6-95e9125050f1",
   "metadata": {},
   "outputs": [],
   "source": [
    "#Linear regression with length, diameter and weight as the predictors\n",
    "lm_spec3 <- linear_reg() |>\n",
    "set_engine(\"lm\") |>\n",
    "set_mode(\"regression\")\n",
    "\n",
    "lm_recipe3 <- recipe(age~length+diameter+whole_weight, data=shell_train)\n",
    "\n",
    "lm_fit3 <- workflow() |> \n",
    "add_recipe(lm_recipe3) |>\n",
    "add_model(lm_spec3) |>\n",
    "fit(data=shell_train)\n",
    "\n",
    "lm_test_results3 <- lm_fit3 |>\n",
    "predict(shell_test) |>\n",
    "bind_cols(shell_test) |>\n",
    "metrics(truth=age, estimate=.pred) |>\n",
    "filter(.metric==\"rmse\")\n",
    "\n",
    "\n",
    "lm_test_results3"
   ]
  },
  {
   "cell_type": "code",
   "execution_count": null,
   "id": "6e03dfb6-8ade-4d03-ae57-a595a4695e7e",
   "metadata": {},
   "outputs": [],
   "source": [
    "#KNN regression with length as the predictor\n",
    "knn_spec <- nearest_neighbor(weight_func=\"rectangular\", neighbors=tune()) |>\n",
    "set_engine(\"kknn\") |>\n",
    "set_mode(\"regression\")\n",
    "\n",
    "knn_recipe <- recipe(age~length, data=shell_train) |>\n",
    "              step_scale(all_predictors()) |>\n",
    "              step_center(all_predictors())\n",
    "\n",
    "shell_vfold <- vfold_cv(shell_train, v=5, strata=age)\n",
    "\n",
    "k_vals <- tibble(neighbors=seq(from=1, to=51, by=5))\n",
    "\n",
    "knn_results <- workflow() |> \n",
    "add_recipe(knn_recipe) |>\n",
    "add_model(knn_spec) |>\n",
    "tune_grid(resamples=shell_vfold, grid=k_vals) |>\n",
    "collect_metrics()\n",
    "\n",
    "knn_min <- knn_results |>\n",
    "filter(.metric==\"rmse\") |>\n",
    "filter(mean==min(mean))\n",
    "\n",
    "knn_min\n",
    "\n",
    "best_spec <- nearest_neighbor(weight_func=\"rectangular\", neighbors=51) |>\n",
    "set_engine(\"kknn\") |>\n",
    "set_mode(\"regression\")\n",
    "\n",
    "knn_fit <- workflow() |>\n",
    "add_recipe(knn_recipe) |>\n",
    "add_model(best_spec) |>\n",
    "fit(data=shell_train)\n",
    "                              \n",
    "shell_summary <- knn_fit |>\n",
    "predict(shell_test) |>\n",
    "bind_cols(shell_test) |>\n",
    "metrics(truth=age, estimate=.pred) |>\n",
    "filter(.metric==\"rmse\")\n",
    "\n",
    "shell_summary"
   ]
  },
  {
   "cell_type": "code",
   "execution_count": null,
   "id": "c7272607-4259-4600-bb63-749c1b87b67c",
   "metadata": {},
   "outputs": [],
   "source": [
    "#KNN regression with length and diameter as the predictors\n",
    "knn_spec2 <- nearest_neighbor(weight_func=\"rectangular\", neighbors=tune()) |>\n",
    "set_engine(\"kknn\") |>\n",
    "set_mode(\"regression\")\n",
    "\n",
    "knn_recipe2 <- recipe(age~length+diameter, data=shell_train) |>\n",
    "              step_scale(all_predictors()) |>\n",
    "              step_center(all_predictors())\n",
    "\n",
    "shell_vfold2 <- vfold_cv(shell_train, v=5, strata=age)\n",
    "\n",
    "k_vals2 <- tibble(neighbors=seq(from=1, to=51, by=5))\n",
    "\n",
    "knn_results2 <- workflow() |> \n",
    "add_recipe(knn_recipe2) |>\n",
    "add_model(knn_spec2) |>\n",
    "tune_grid(resamples=shell_vfold2, grid=k_vals2) |>\n",
    "collect_metrics()\n",
    "\n",
    "knn_min2 <- knn_results |>\n",
    "filter(.metric==\"rmse\") |>\n",
    "filter(mean==min(mean))\n",
    "\n",
    "knn_min2\n",
    "\n",
    "best_spec2 <- nearest_neighbor(weight_func=\"rectangular\", neighbors=51) |>\n",
    "set_engine(\"kknn\") |>\n",
    "set_mode(\"regression\")\n",
    "\n",
    "knn_fit2 <- workflow() |>\n",
    "add_recipe(knn_recipe2) |>\n",
    "add_model(best_spec2) |>\n",
    "fit(data=shell_train)\n",
    "                              \n",
    "shell_summary2 <- knn_fit2 |>\n",
    "predict(shell_test) |>\n",
    "bind_cols(shell_test) |>\n",
    "metrics(truth=age, estimate=.pred) |>\n",
    "filter(.metric==\"rmse\")\n",
    "\n",
    "shell_summary2"
   ]
  },
  {
   "cell_type": "markdown",
   "id": "403dda07-abf4-4d8e-bdb3-f774c559724d",
   "metadata": {},
   "source": [
    "**Results**\n"
   ]
  },
  {
   "cell_type": "markdown",
   "id": "74c29edd-8883-434f-8163-147bc22c69e0",
   "metadata": {},
   "source": [
    "**Discussion**"
   ]
  },
  {
   "cell_type": "markdown",
   "id": "e65e311b-6d92-4fea-aa38-68bd49d38d1b",
   "metadata": {},
   "source": [
    "**References**\n",
    "Kaggle. (n.d.). Abalone Dataset. Retrieved 8 June 2023, from https://www.kaggle.com/datasets/rodolfomendes/abalone-dataset\n",
    "\n",
    "Kerlin, K. (2022, December 12). All West Coast Abalones at Risk of Extinction on the IUCN Red List. UC Davis. https://www.ucdavis.edu/climate/news/all-west-coast-abalone-added-endangered-iucns-red-list\n",
    "\n",
    "Nash, W. J., & Sellers, T. L. (1994). Abalone [Data set]. UCI Machine Learning Repository. https://doi.org/10.24432/C55C7W\n",
    "\n",
    "Ridgway, I. D., Richardson, C. A., &amp; Austad, S. N. (2010a). Maximum shell size, growth rate, and maturation age correlate with longevity in bivalve molluscs. The Journals of Gerontology Series A: Biological Sciences and Medical Sciences, 66A(2), 183–190. https://doi.org/10.1093/gerona/glq172 \n",
    "\n",
    "The Pricer. (2021, July 14). How Much Does Abalone Cost? - Updated 2023 - The Pricer. https://www.thepricer.org/the-cost-of-abalone/"
   ]
  },
  {
   "cell_type": "code",
   "execution_count": null,
   "id": "ccf4bb38-a589-40ee-9bc8-cbb65a999cbb",
   "metadata": {},
   "outputs": [],
   "source": []
  }
 ],
 "metadata": {
  "kernelspec": {
   "display_name": "R",
   "language": "R",
   "name": "ir"
  },
  "language_info": {
   "codemirror_mode": "r",
   "file_extension": ".r",
   "mimetype": "text/x-r-source",
   "name": "R",
   "pygments_lexer": "r",
   "version": "4.1.3"
  }
 },
 "nbformat": 4,
 "nbformat_minor": 5
}
