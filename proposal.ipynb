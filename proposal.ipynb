{
 "cells": [
  {
   "cell_type": "markdown",
   "id": "967f7527",
   "metadata": {},
   "source": [
    "**Title:** What the Shell?!"
   ]
  },
  {
   "cell_type": "markdown",
   "id": "31686201",
   "metadata": {},
   "source": [
    "**Team member:** Laurelyne Barbier, Carter Gunning, Sebastian Martinez Sotomayor and Tayte Stefaniuk"
   ]
  },
  {
   "cell_type": "markdown",
   "id": "51b0245b-52cd-48a5-9267-4753d181d806",
   "metadata": {},
   "source": [
    "**Introduction**\n",
    "\n",
    "Abalones are a type of mollusk that are found in marine environments and commonly considered a delicacy in many cuisines (costing up to 100$ per shell 😨, (The Pricer, 2021)). This has placed many species of Abalone in endangered species lists and have prompted scientific research into their population tendencies, (Kerlin, 2022). Part of the research conducted involves determining the age of individuals by cutting the shell, staining it, and counting the rings that are formed perennially using a microscope. This is a very tedious process, so scientists have resorted to other measurements performed on the abalones to predict their age (Nash & Sellers, 1994).\n",
    "\n",
    "The question we are thus aiming to answer through our project is the following: Can the age of an abalone be predicted based on several measurements describing its dimensions and weight using a model using R?\n",
    "\n",
    "The dataset we will be using to answer this question give various statistics on the physical characteristics of 4178 different mollusks.  These statistics include the length, diameter, height, weight, shucked weight, viscera weight (weight of soft inside), shell weight and number of rings of these mollusks.  One categorical variable they use is sex of the mollusk which can be male, female, or infant (infant is a category because mollusks can switch sexes) (Kaggle, n.d.)."
   ]
  },
  {
   "cell_type": "markdown",
   "id": "e58d15ec-ee09-47fa-b899-2c2dc89bf4f4",
   "metadata": {},
   "source": [
    "**Preliminary exploratory data analysis**"
   ]
  },
  {
   "cell_type": "code",
   "execution_count": 1,
   "id": "8dd3798e",
   "metadata": {},
   "outputs": [
    {
     "name": "stderr",
     "output_type": "stream",
     "text": [
      "── \u001b[1mAttaching packages\u001b[22m ─────────────────────────────────────── tidyverse 1.3.1 ──\n",
      "\n",
      "\u001b[32m✔\u001b[39m \u001b[34mggplot2\u001b[39m 3.3.6     \u001b[32m✔\u001b[39m \u001b[34mpurrr  \u001b[39m 0.3.4\n",
      "\u001b[32m✔\u001b[39m \u001b[34mtibble \u001b[39m 3.1.7     \u001b[32m✔\u001b[39m \u001b[34mdplyr  \u001b[39m 1.0.9\n",
      "\u001b[32m✔\u001b[39m \u001b[34mtidyr  \u001b[39m 1.2.0     \u001b[32m✔\u001b[39m \u001b[34mstringr\u001b[39m 1.4.0\n",
      "\u001b[32m✔\u001b[39m \u001b[34mreadr  \u001b[39m 2.1.2     \u001b[32m✔\u001b[39m \u001b[34mforcats\u001b[39m 0.5.1\n",
      "\n",
      "── \u001b[1mConflicts\u001b[22m ────────────────────────────────────────── tidyverse_conflicts() ──\n",
      "\u001b[31m✖\u001b[39m \u001b[34mdplyr\u001b[39m::\u001b[32mfilter()\u001b[39m masks \u001b[34mstats\u001b[39m::filter()\n",
      "\u001b[31m✖\u001b[39m \u001b[34mdplyr\u001b[39m::\u001b[32mlag()\u001b[39m    masks \u001b[34mstats\u001b[39m::lag()\n",
      "\n",
      "── \u001b[1mAttaching packages\u001b[22m ────────────────────────────────────── tidymodels 1.0.0 ──\n",
      "\n",
      "\u001b[32m✔\u001b[39m \u001b[34mbroom       \u001b[39m 1.0.0     \u001b[32m✔\u001b[39m \u001b[34mrsample     \u001b[39m 1.0.0\n",
      "\u001b[32m✔\u001b[39m \u001b[34mdials       \u001b[39m 1.0.0     \u001b[32m✔\u001b[39m \u001b[34mtune        \u001b[39m 1.0.0\n",
      "\u001b[32m✔\u001b[39m \u001b[34minfer       \u001b[39m 1.0.2     \u001b[32m✔\u001b[39m \u001b[34mworkflows   \u001b[39m 1.0.0\n",
      "\u001b[32m✔\u001b[39m \u001b[34mmodeldata   \u001b[39m 1.0.0     \u001b[32m✔\u001b[39m \u001b[34mworkflowsets\u001b[39m 1.0.0\n",
      "\u001b[32m✔\u001b[39m \u001b[34mparsnip     \u001b[39m 1.0.0     \u001b[32m✔\u001b[39m \u001b[34myardstick   \u001b[39m 1.0.0\n",
      "\u001b[32m✔\u001b[39m \u001b[34mrecipes     \u001b[39m 1.0.1     \n",
      "\n",
      "── \u001b[1mConflicts\u001b[22m ───────────────────────────────────────── tidymodels_conflicts() ──\n",
      "\u001b[31m✖\u001b[39m \u001b[34mscales\u001b[39m::\u001b[32mdiscard()\u001b[39m masks \u001b[34mpurrr\u001b[39m::discard()\n",
      "\u001b[31m✖\u001b[39m \u001b[34mdplyr\u001b[39m::\u001b[32mfilter()\u001b[39m   masks \u001b[34mstats\u001b[39m::filter()\n",
      "\u001b[31m✖\u001b[39m \u001b[34mrecipes\u001b[39m::\u001b[32mfixed()\u001b[39m  masks \u001b[34mstringr\u001b[39m::fixed()\n",
      "\u001b[31m✖\u001b[39m \u001b[34mdplyr\u001b[39m::\u001b[32mlag()\u001b[39m      masks \u001b[34mstats\u001b[39m::lag()\n",
      "\u001b[31m✖\u001b[39m \u001b[34myardstick\u001b[39m::\u001b[32mspec()\u001b[39m masks \u001b[34mreadr\u001b[39m::spec()\n",
      "\u001b[31m✖\u001b[39m \u001b[34mrecipes\u001b[39m::\u001b[32mstep()\u001b[39m   masks \u001b[34mstats\u001b[39m::step()\n",
      "\u001b[34m•\u001b[39m Use suppressPackageStartupMessages() to eliminate package startup messages\n",
      "\n",
      "Warning message in file(filename, \"r\", encoding = encoding):\n",
      "“cannot open file 'tests.R': No such file or directory”\n"
     ]
    },
    {
     "ename": "ERROR",
     "evalue": "Error in file(filename, \"r\", encoding = encoding): cannot open the connection\n",
     "output_type": "error",
     "traceback": [
      "Error in file(filename, \"r\", encoding = encoding): cannot open the connection\nTraceback:\n",
      "1. source(\"tests.R\")",
      "2. file(filename, \"r\", encoding = encoding)"
     ]
    }
   ],
   "source": [
    "###\n",
    "### Tidy Package\n",
    "###\n",
    "\n",
    "library(repr)\n",
    "library(tidyverse)\n",
    "library(tidymodels)\n",
    "options(repr.matrix.max.rows = 6)\n",
    "source('tests.R')\n",
    "source(\"cleanup.R\")\n",
    "\n",
    "# functions needed to work with images\n",
    "# code below sourced from: https://gist.github.com/daviddalpiaz/ae62ae5ccd0bada4b9acd6dbc9008706\n",
    "# helper function for visualization\n",
    "show_digit = function(arr784, col = gray(12:1 / 12), ...) {\n",
    "  arr784$X <- 0  # avoid dark pixel in top left\n",
    "  image(matrix(as.matrix(arr784[-785]), nrow = 28)[, 28:1], col = col, ...)\n",
    "}\n",
    "\n",
    "#set seed\n",
    "\n",
    "set.seed(1969)"
   ]
  },
  {
   "cell_type": "markdown",
   "id": "309ff0c4",
   "metadata": {},
   "source": [
    "**Demonstrate that the dataset can be read from the web into R**\n"
   ]
  },
  {
   "cell_type": "code",
   "execution_count": null,
   "id": "d1c1f275",
   "metadata": {},
   "outputs": [],
   "source": [
    "shell <- read_csv(\"data/abalone.csv\")\n",
    "shell"
   ]
  },
  {
   "cell_type": "markdown",
   "id": "8466a6d7",
   "metadata": {},
   "source": [
    "**Clean and wrangle your data into a tidy format:**\n",
    "\n",
    "Data is already tidy.\n"
   ]
  },
  {
   "cell_type": "code",
   "execution_count": null,
   "id": "ee708478-0c46-44b1-9fde-300a60eb74ce",
   "metadata": {},
   "outputs": [],
   "source": [
    "#lowercase column names & rid of spaces\n",
    "names(shell) <- tolower(names(shell))\n",
    "shell\n"
   ]
  },
  {
   "cell_type": "markdown",
   "id": "7f88aea5",
   "metadata": {},
   "source": [
    "**Using only training data, summarize the data in at least one table (this is exploratory data analysis). An example of a useful table could be one that reports the number of observations in each class, the means of the predictor variables you plan to use in your analysis and how many rows have missing data.**\n"
   ]
  },
  {
   "cell_type": "code",
   "execution_count": null,
   "id": "e1277717",
   "metadata": {},
   "outputs": [],
   "source": [
    "shell_split <- initial_split(shell, prop = 0.75)  \n",
    "shell_train <- training(shell_split)\n",
    "shell_test <- testing(shell_split)\n",
    "\n",
    "shell_train\n",
    "shell_test\n"
   ]
  },
  {
   "cell_type": "code",
   "execution_count": null,
   "id": "27ffdbc5-2533-4e88-9e70-fb3f1427d428",
   "metadata": {},
   "outputs": [],
   "source": [
    "# number of observations in each class\n",
    "\n",
    "\n",
    "\n",
    "# means of predictor variables\n",
    "\n",
    "shell_select <- shell_train |>\n",
    "    select(length:shell weight)\n",
    " \n",
    "\n",
    "shell_select"
   ]
  },
  {
   "cell_type": "code",
   "execution_count": null,
   "id": "5c502b4a-3c34-4a4b-aead-17063c461f8f",
   "metadata": {},
   "outputs": [],
   "source": []
  }
 ],
 "metadata": {
  "kernelspec": {
   "display_name": "R",
   "language": "R",
   "name": "ir"
  },
  "language_info": {
   "codemirror_mode": "r",
   "file_extension": ".r",
   "mimetype": "text/x-r-source",
   "name": "R",
   "pygments_lexer": "r",
   "version": "4.1.3"
  }
 },
 "nbformat": 4,
 "nbformat_minor": 5
}
