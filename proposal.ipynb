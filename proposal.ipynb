{
 "cells": [
  {
   "cell_type": "markdown",
   "id": "e291d38c-fdd7-4156-8f54-3797b87f5a85",
   "metadata": {},
   "source": [
    "Team member: Laurelyne Barbier, Carter Gunning, Sebastian Martinez Sotomayor and Tayte Stefaniuk"
   ]
  },
  {
   "cell_type": "markdown",
   "id": "063f9972-b874-45f8-8d20-72980379f407",
   "metadata": {},
   "source": [
    "Title: What the Shell?!"
   ]
  }
 ],
 "metadata": {
  "kernelspec": {
   "display_name": "R",
   "language": "R",
   "name": "ir"
  },
  "language_info": {
   "codemirror_mode": "r",
   "file_extension": ".r",
   "mimetype": "text/x-r-source",
   "name": "R",
   "pygments_lexer": "r",
   "version": "4.1.3"
  }
 },
 "nbformat": 4,
 "nbformat_minor": 5
}
