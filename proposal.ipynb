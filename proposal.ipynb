{
 "cells": [
  {
   "cell_type": "markdown",
   "id": "967f7527",
   "metadata": {},
   "source": [
    "Title: What the Shell?!"
   ]
  },
  {
   "cell_type": "markdown",
   "id": "31686201",
   "metadata": {},
   "source": [
    "Team member: Laurelyne Barbier, Carter Gunning, Sebastian Martinez Sotomayor and Tayte Stefaniuk"
   ]
  },
  {
   "cell_type": "markdown",
   "id": "51b0245b-52cd-48a5-9267-4753d181d806",
   "metadata": {},
   "source": []
  },
  {
   "cell_type": "code",
   "execution_count": 7,
   "id": "8dd3798e",
   "metadata": {},
   "outputs": [
    {
     "name": "stderr",
     "output_type": "stream",
     "text": [
      "Warning message in file(filename, \"r\", encoding = encoding):\n",
      "“cannot open file 'tests.R': No such file or directory”\n"
     ]
    },
    {
     "ename": "ERROR",
     "evalue": "Error in file(filename, \"r\", encoding = encoding): cannot open the connection\n",
     "output_type": "error",
     "traceback": [
      "Error in file(filename, \"r\", encoding = encoding): cannot open the connection\nTraceback:\n",
      "1. source(\"tests.R\")",
      "2. file(filename, \"r\", encoding = encoding)"
     ]
    }
   ],
   "source": [
    "###\n",
    "### Tidy Package\n",
    "###\n",
    "\n",
    "library(repr)\n",
    "library(tidyverse)\n",
    "library(tidymodels)\n",
    "options(repr.matrix.max.rows = 6)\n",
    "source('tests.R')\n",
    "source(\"cleanup.R\")\n",
    "\n",
    "# functions needed to work with images\n",
    "# code below sourced from: https://gist.github.com/daviddalpiaz/ae62ae5ccd0bada4b9acd6dbc9008706\n",
    "# helper function for visualization\n",
    "show_digit = function(arr784, col = gray(12:1 / 12), ...) {\n",
    "  arr784$X <- 0  # avoid dark pixel in top left\n",
    "  image(matrix(as.matrix(arr784[-785]), nrow = 28)[, 28:1], col = col, ...)\n",
    "}\n",
    "\n",
    "#set seed\n",
    "\n",
    "set.seed(1969)"
   ]
  },
  {
   "cell_type": "markdown",
   "id": "309ff0c4",
   "metadata": {},
   "source": [
    "**Demonstrate that the dataset can be read from the web into R**\n"
   ]
  },
  {
   "cell_type": "code",
   "execution_count": 5,
   "id": "d1c1f275",
   "metadata": {},
   "outputs": [
    {
     "name": "stderr",
     "output_type": "stream",
     "text": [
      "\u001b[1mRows: \u001b[22m\u001b[34m4177\u001b[39m \u001b[1mColumns: \u001b[22m\u001b[34m9\u001b[39m\n",
      "\u001b[36m──\u001b[39m \u001b[1mColumn specification\u001b[22m \u001b[36m────────────────────────────────────────────────────────\u001b[39m\n",
      "\u001b[1mDelimiter:\u001b[22m \",\"\n",
      "\u001b[31mchr\u001b[39m (1): Sex\n",
      "\u001b[32mdbl\u001b[39m (8): Length, Diameter, Height, Whole weight, Shucked weight, Viscera wei...\n",
      "\n",
      "\u001b[36mℹ\u001b[39m Use `spec()` to retrieve the full column specification for this data.\n",
      "\u001b[36mℹ\u001b[39m Specify the column types or set `show_col_types = FALSE` to quiet this message.\n"
     ]
    },
    {
     "data": {
      "text/html": [
       "<table class=\"dataframe\">\n",
       "<caption>A spec_tbl_df: 4177 × 9</caption>\n",
       "<thead>\n",
       "\t<tr><th scope=col>Sex</th><th scope=col>Length</th><th scope=col>Diameter</th><th scope=col>Height</th><th scope=col>Whole weight</th><th scope=col>Shucked weight</th><th scope=col>Viscera weight</th><th scope=col>Shell weight</th><th scope=col>Rings</th></tr>\n",
       "\t<tr><th scope=col>&lt;chr&gt;</th><th scope=col>&lt;dbl&gt;</th><th scope=col>&lt;dbl&gt;</th><th scope=col>&lt;dbl&gt;</th><th scope=col>&lt;dbl&gt;</th><th scope=col>&lt;dbl&gt;</th><th scope=col>&lt;dbl&gt;</th><th scope=col>&lt;dbl&gt;</th><th scope=col>&lt;dbl&gt;</th></tr>\n",
       "</thead>\n",
       "<tbody>\n",
       "\t<tr><td>M</td><td>0.455</td><td>0.365</td><td>0.095</td><td>0.5140</td><td>0.2245</td><td>0.1010</td><td>0.15</td><td>15</td></tr>\n",
       "\t<tr><td>M</td><td>0.350</td><td>0.265</td><td>0.090</td><td>0.2255</td><td>0.0995</td><td>0.0485</td><td>0.07</td><td> 7</td></tr>\n",
       "\t<tr><td>F</td><td>0.530</td><td>0.420</td><td>0.135</td><td>0.6770</td><td>0.2565</td><td>0.1415</td><td>0.21</td><td> 9</td></tr>\n",
       "\t<tr><td>⋮</td><td>⋮</td><td>⋮</td><td>⋮</td><td>⋮</td><td>⋮</td><td>⋮</td><td>⋮</td><td>⋮</td></tr>\n",
       "\t<tr><td>M</td><td>0.600</td><td>0.475</td><td>0.205</td><td>1.1760</td><td>0.5255</td><td>0.2875</td><td>0.308</td><td> 9</td></tr>\n",
       "\t<tr><td>F</td><td>0.625</td><td>0.485</td><td>0.150</td><td>1.0945</td><td>0.5310</td><td>0.2610</td><td>0.296</td><td>10</td></tr>\n",
       "\t<tr><td>M</td><td>0.710</td><td>0.555</td><td>0.195</td><td>1.9485</td><td>0.9455</td><td>0.3765</td><td>0.495</td><td>12</td></tr>\n",
       "</tbody>\n",
       "</table>\n"
      ],
      "text/latex": [
       "A spec\\_tbl\\_df: 4177 × 9\n",
       "\\begin{tabular}{lllllllll}\n",
       " Sex & Length & Diameter & Height & Whole weight & Shucked weight & Viscera weight & Shell weight & Rings\\\\\n",
       " <chr> & <dbl> & <dbl> & <dbl> & <dbl> & <dbl> & <dbl> & <dbl> & <dbl>\\\\\n",
       "\\hline\n",
       "\t M & 0.455 & 0.365 & 0.095 & 0.5140 & 0.2245 & 0.1010 & 0.15 & 15\\\\\n",
       "\t M & 0.350 & 0.265 & 0.090 & 0.2255 & 0.0995 & 0.0485 & 0.07 &  7\\\\\n",
       "\t F & 0.530 & 0.420 & 0.135 & 0.6770 & 0.2565 & 0.1415 & 0.21 &  9\\\\\n",
       "\t ⋮ & ⋮ & ⋮ & ⋮ & ⋮ & ⋮ & ⋮ & ⋮ & ⋮\\\\\n",
       "\t M & 0.600 & 0.475 & 0.205 & 1.1760 & 0.5255 & 0.2875 & 0.308 &  9\\\\\n",
       "\t F & 0.625 & 0.485 & 0.150 & 1.0945 & 0.5310 & 0.2610 & 0.296 & 10\\\\\n",
       "\t M & 0.710 & 0.555 & 0.195 & 1.9485 & 0.9455 & 0.3765 & 0.495 & 12\\\\\n",
       "\\end{tabular}\n"
      ],
      "text/markdown": [
       "\n",
       "A spec_tbl_df: 4177 × 9\n",
       "\n",
       "| Sex &lt;chr&gt; | Length &lt;dbl&gt; | Diameter &lt;dbl&gt; | Height &lt;dbl&gt; | Whole weight &lt;dbl&gt; | Shucked weight &lt;dbl&gt; | Viscera weight &lt;dbl&gt; | Shell weight &lt;dbl&gt; | Rings &lt;dbl&gt; |\n",
       "|---|---|---|---|---|---|---|---|---|\n",
       "| M | 0.455 | 0.365 | 0.095 | 0.5140 | 0.2245 | 0.1010 | 0.15 | 15 |\n",
       "| M | 0.350 | 0.265 | 0.090 | 0.2255 | 0.0995 | 0.0485 | 0.07 |  7 |\n",
       "| F | 0.530 | 0.420 | 0.135 | 0.6770 | 0.2565 | 0.1415 | 0.21 |  9 |\n",
       "| ⋮ | ⋮ | ⋮ | ⋮ | ⋮ | ⋮ | ⋮ | ⋮ | ⋮ |\n",
       "| M | 0.600 | 0.475 | 0.205 | 1.1760 | 0.5255 | 0.2875 | 0.308 |  9 |\n",
       "| F | 0.625 | 0.485 | 0.150 | 1.0945 | 0.5310 | 0.2610 | 0.296 | 10 |\n",
       "| M | 0.710 | 0.555 | 0.195 | 1.9485 | 0.9455 | 0.3765 | 0.495 | 12 |\n",
       "\n"
      ],
      "text/plain": [
       "     Sex Length Diameter Height Whole weight Shucked weight Viscera weight\n",
       "1    M   0.455  0.365    0.095  0.5140       0.2245         0.1010        \n",
       "2    M   0.350  0.265    0.090  0.2255       0.0995         0.0485        \n",
       "3    F   0.530  0.420    0.135  0.6770       0.2565         0.1415        \n",
       "⋮    ⋮   ⋮      ⋮        ⋮      ⋮            ⋮              ⋮             \n",
       "4175 M   0.600  0.475    0.205  1.1760       0.5255         0.2875        \n",
       "4176 F   0.625  0.485    0.150  1.0945       0.5310         0.2610        \n",
       "4177 M   0.710  0.555    0.195  1.9485       0.9455         0.3765        \n",
       "     Shell weight Rings\n",
       "1    0.15         15   \n",
       "2    0.07          7   \n",
       "3    0.21          9   \n",
       "⋮    ⋮            ⋮    \n",
       "4175 0.308         9   \n",
       "4176 0.296        10   \n",
       "4177 0.495        12   "
      ]
     },
     "metadata": {},
     "output_type": "display_data"
    }
   ],
   "source": [
    "shell <- read_csv(\"data/abalone.csv\")\n",
    "shell"
   ]
  },
  {
   "cell_type": "markdown",
   "id": "8466a6d7",
   "metadata": {},
   "source": [
    "**Clean and wrangle your data into a tidy format:**\n",
    "\n",
    "Data is already tidy.\n"
   ]
  },
  {
   "cell_type": "markdown",
   "id": "7f88aea5",
   "metadata": {},
   "source": [
    "**Using only training data, summarize the data in at least one table (this is exploratory data analysis). An example of a useful table could be one that reports the number of observations in each class, the means of the predictor variables you plan to use in your analysis and how many rows have missing data.**\n"
   ]
  },
  {
   "cell_type": "code",
   "execution_count": 9,
   "id": "e1277717",
   "metadata": {},
   "outputs": [
    {
     "data": {
      "text/html": [
       "<table class=\"dataframe\">\n",
       "<caption>A tibble: 3132 × 9</caption>\n",
       "<thead>\n",
       "\t<tr><th scope=col>Sex</th><th scope=col>Length</th><th scope=col>Diameter</th><th scope=col>Height</th><th scope=col>Whole weight</th><th scope=col>Shucked weight</th><th scope=col>Viscera weight</th><th scope=col>Shell weight</th><th scope=col>Rings</th></tr>\n",
       "\t<tr><th scope=col>&lt;chr&gt;</th><th scope=col>&lt;dbl&gt;</th><th scope=col>&lt;dbl&gt;</th><th scope=col>&lt;dbl&gt;</th><th scope=col>&lt;dbl&gt;</th><th scope=col>&lt;dbl&gt;</th><th scope=col>&lt;dbl&gt;</th><th scope=col>&lt;dbl&gt;</th><th scope=col>&lt;dbl&gt;</th></tr>\n",
       "</thead>\n",
       "<tbody>\n",
       "\t<tr><td>F</td><td>0.445</td><td>0.33</td><td>0.105</td><td>0.4525</td><td>0.1800</td><td>0.1030</td><td>0.123</td><td>9</td></tr>\n",
       "\t<tr><td>I</td><td>0.355</td><td>0.28</td><td>0.085</td><td>0.2905</td><td>0.0950</td><td>0.0395</td><td>0.115</td><td>7</td></tr>\n",
       "\t<tr><td>M</td><td>0.325</td><td>0.24</td><td>0.085</td><td>0.1730</td><td>0.0795</td><td>0.0380</td><td>0.050</td><td>7</td></tr>\n",
       "\t<tr><td>⋮</td><td>⋮</td><td>⋮</td><td>⋮</td><td>⋮</td><td>⋮</td><td>⋮</td><td>⋮</td><td>⋮</td></tr>\n",
       "\t<tr><td>M</td><td>0.575</td><td>0.435</td><td>0.14</td><td>0.8455</td><td>0.4010</td><td>0.191</td><td>0.2220</td><td> 9</td></tr>\n",
       "\t<tr><td>F</td><td>0.660</td><td>0.525</td><td>0.18</td><td>1.5965</td><td>0.7765</td><td>0.397</td><td>0.3605</td><td>10</td></tr>\n",
       "\t<tr><td>F</td><td>0.625</td><td>0.485</td><td>0.15</td><td>1.0945</td><td>0.5310</td><td>0.261</td><td>0.2960</td><td>10</td></tr>\n",
       "</tbody>\n",
       "</table>\n"
      ],
      "text/latex": [
       "A tibble: 3132 × 9\n",
       "\\begin{tabular}{lllllllll}\n",
       " Sex & Length & Diameter & Height & Whole weight & Shucked weight & Viscera weight & Shell weight & Rings\\\\\n",
       " <chr> & <dbl> & <dbl> & <dbl> & <dbl> & <dbl> & <dbl> & <dbl> & <dbl>\\\\\n",
       "\\hline\n",
       "\t F & 0.445 & 0.33 & 0.105 & 0.4525 & 0.1800 & 0.1030 & 0.123 & 9\\\\\n",
       "\t I & 0.355 & 0.28 & 0.085 & 0.2905 & 0.0950 & 0.0395 & 0.115 & 7\\\\\n",
       "\t M & 0.325 & 0.24 & 0.085 & 0.1730 & 0.0795 & 0.0380 & 0.050 & 7\\\\\n",
       "\t ⋮ & ⋮ & ⋮ & ⋮ & ⋮ & ⋮ & ⋮ & ⋮ & ⋮\\\\\n",
       "\t M & 0.575 & 0.435 & 0.14 & 0.8455 & 0.4010 & 0.191 & 0.2220 &  9\\\\\n",
       "\t F & 0.660 & 0.525 & 0.18 & 1.5965 & 0.7765 & 0.397 & 0.3605 & 10\\\\\n",
       "\t F & 0.625 & 0.485 & 0.15 & 1.0945 & 0.5310 & 0.261 & 0.2960 & 10\\\\\n",
       "\\end{tabular}\n"
      ],
      "text/markdown": [
       "\n",
       "A tibble: 3132 × 9\n",
       "\n",
       "| Sex &lt;chr&gt; | Length &lt;dbl&gt; | Diameter &lt;dbl&gt; | Height &lt;dbl&gt; | Whole weight &lt;dbl&gt; | Shucked weight &lt;dbl&gt; | Viscera weight &lt;dbl&gt; | Shell weight &lt;dbl&gt; | Rings &lt;dbl&gt; |\n",
       "|---|---|---|---|---|---|---|---|---|\n",
       "| F | 0.445 | 0.33 | 0.105 | 0.4525 | 0.1800 | 0.1030 | 0.123 | 9 |\n",
       "| I | 0.355 | 0.28 | 0.085 | 0.2905 | 0.0950 | 0.0395 | 0.115 | 7 |\n",
       "| M | 0.325 | 0.24 | 0.085 | 0.1730 | 0.0795 | 0.0380 | 0.050 | 7 |\n",
       "| ⋮ | ⋮ | ⋮ | ⋮ | ⋮ | ⋮ | ⋮ | ⋮ | ⋮ |\n",
       "| M | 0.575 | 0.435 | 0.14 | 0.8455 | 0.4010 | 0.191 | 0.2220 |  9 |\n",
       "| F | 0.660 | 0.525 | 0.18 | 1.5965 | 0.7765 | 0.397 | 0.3605 | 10 |\n",
       "| F | 0.625 | 0.485 | 0.15 | 1.0945 | 0.5310 | 0.261 | 0.2960 | 10 |\n",
       "\n"
      ],
      "text/plain": [
       "     Sex Length Diameter Height Whole weight Shucked weight Viscera weight\n",
       "1    F   0.445  0.33     0.105  0.4525       0.1800         0.1030        \n",
       "2    I   0.355  0.28     0.085  0.2905       0.0950         0.0395        \n",
       "3    M   0.325  0.24     0.085  0.1730       0.0795         0.0380        \n",
       "⋮    ⋮   ⋮      ⋮        ⋮      ⋮            ⋮              ⋮             \n",
       "3130 M   0.575  0.435    0.14   0.8455       0.4010         0.191         \n",
       "3131 F   0.660  0.525    0.18   1.5965       0.7765         0.397         \n",
       "3132 F   0.625  0.485    0.15   1.0945       0.5310         0.261         \n",
       "     Shell weight Rings\n",
       "1    0.123        9    \n",
       "2    0.115        7    \n",
       "3    0.050        7    \n",
       "⋮    ⋮            ⋮    \n",
       "3130 0.2220        9   \n",
       "3131 0.3605       10   \n",
       "3132 0.2960       10   "
      ]
     },
     "metadata": {},
     "output_type": "display_data"
    },
    {
     "data": {
      "text/html": [
       "<table class=\"dataframe\">\n",
       "<caption>A tibble: 1045 × 9</caption>\n",
       "<thead>\n",
       "\t<tr><th scope=col>Sex</th><th scope=col>Length</th><th scope=col>Diameter</th><th scope=col>Height</th><th scope=col>Whole weight</th><th scope=col>Shucked weight</th><th scope=col>Viscera weight</th><th scope=col>Shell weight</th><th scope=col>Rings</th></tr>\n",
       "\t<tr><th scope=col>&lt;chr&gt;</th><th scope=col>&lt;dbl&gt;</th><th scope=col>&lt;dbl&gt;</th><th scope=col>&lt;dbl&gt;</th><th scope=col>&lt;dbl&gt;</th><th scope=col>&lt;dbl&gt;</th><th scope=col>&lt;dbl&gt;</th><th scope=col>&lt;dbl&gt;</th><th scope=col>&lt;dbl&gt;</th></tr>\n",
       "</thead>\n",
       "<tbody>\n",
       "\t<tr><td>F</td><td>0.535</td><td>0.405</td><td>0.145</td><td>0.6845</td><td>0.2725</td><td>0.1710</td><td>0.205</td><td>10</td></tr>\n",
       "\t<tr><td>F</td><td>0.470</td><td>0.355</td><td>0.100</td><td>0.4755</td><td>0.1675</td><td>0.0805</td><td>0.185</td><td>10</td></tr>\n",
       "\t<tr><td>M</td><td>0.365</td><td>0.295</td><td>0.080</td><td>0.2555</td><td>0.0970</td><td>0.0430</td><td>0.100</td><td> 7</td></tr>\n",
       "\t<tr><td>⋮</td><td>⋮</td><td>⋮</td><td>⋮</td><td>⋮</td><td>⋮</td><td>⋮</td><td>⋮</td><td>⋮</td></tr>\n",
       "\t<tr><td>M</td><td>0.560</td><td>0.430</td><td>0.155</td><td>0.8675</td><td>0.4000</td><td>0.1720</td><td>0.229</td><td> 8</td></tr>\n",
       "\t<tr><td>F</td><td>0.565</td><td>0.450</td><td>0.165</td><td>0.8870</td><td>0.3700</td><td>0.2390</td><td>0.249</td><td>11</td></tr>\n",
       "\t<tr><td>M</td><td>0.600</td><td>0.475</td><td>0.205</td><td>1.1760</td><td>0.5255</td><td>0.2875</td><td>0.308</td><td> 9</td></tr>\n",
       "</tbody>\n",
       "</table>\n"
      ],
      "text/latex": [
       "A tibble: 1045 × 9\n",
       "\\begin{tabular}{lllllllll}\n",
       " Sex & Length & Diameter & Height & Whole weight & Shucked weight & Viscera weight & Shell weight & Rings\\\\\n",
       " <chr> & <dbl> & <dbl> & <dbl> & <dbl> & <dbl> & <dbl> & <dbl> & <dbl>\\\\\n",
       "\\hline\n",
       "\t F & 0.535 & 0.405 & 0.145 & 0.6845 & 0.2725 & 0.1710 & 0.205 & 10\\\\\n",
       "\t F & 0.470 & 0.355 & 0.100 & 0.4755 & 0.1675 & 0.0805 & 0.185 & 10\\\\\n",
       "\t M & 0.365 & 0.295 & 0.080 & 0.2555 & 0.0970 & 0.0430 & 0.100 &  7\\\\\n",
       "\t ⋮ & ⋮ & ⋮ & ⋮ & ⋮ & ⋮ & ⋮ & ⋮ & ⋮\\\\\n",
       "\t M & 0.560 & 0.430 & 0.155 & 0.8675 & 0.4000 & 0.1720 & 0.229 &  8\\\\\n",
       "\t F & 0.565 & 0.450 & 0.165 & 0.8870 & 0.3700 & 0.2390 & 0.249 & 11\\\\\n",
       "\t M & 0.600 & 0.475 & 0.205 & 1.1760 & 0.5255 & 0.2875 & 0.308 &  9\\\\\n",
       "\\end{tabular}\n"
      ],
      "text/markdown": [
       "\n",
       "A tibble: 1045 × 9\n",
       "\n",
       "| Sex &lt;chr&gt; | Length &lt;dbl&gt; | Diameter &lt;dbl&gt; | Height &lt;dbl&gt; | Whole weight &lt;dbl&gt; | Shucked weight &lt;dbl&gt; | Viscera weight &lt;dbl&gt; | Shell weight &lt;dbl&gt; | Rings &lt;dbl&gt; |\n",
       "|---|---|---|---|---|---|---|---|---|\n",
       "| F | 0.535 | 0.405 | 0.145 | 0.6845 | 0.2725 | 0.1710 | 0.205 | 10 |\n",
       "| F | 0.470 | 0.355 | 0.100 | 0.4755 | 0.1675 | 0.0805 | 0.185 | 10 |\n",
       "| M | 0.365 | 0.295 | 0.080 | 0.2555 | 0.0970 | 0.0430 | 0.100 |  7 |\n",
       "| ⋮ | ⋮ | ⋮ | ⋮ | ⋮ | ⋮ | ⋮ | ⋮ | ⋮ |\n",
       "| M | 0.560 | 0.430 | 0.155 | 0.8675 | 0.4000 | 0.1720 | 0.229 |  8 |\n",
       "| F | 0.565 | 0.450 | 0.165 | 0.8870 | 0.3700 | 0.2390 | 0.249 | 11 |\n",
       "| M | 0.600 | 0.475 | 0.205 | 1.1760 | 0.5255 | 0.2875 | 0.308 |  9 |\n",
       "\n"
      ],
      "text/plain": [
       "     Sex Length Diameter Height Whole weight Shucked weight Viscera weight\n",
       "1    F   0.535  0.405    0.145  0.6845       0.2725         0.1710        \n",
       "2    F   0.470  0.355    0.100  0.4755       0.1675         0.0805        \n",
       "3    M   0.365  0.295    0.080  0.2555       0.0970         0.0430        \n",
       "⋮    ⋮   ⋮      ⋮        ⋮      ⋮            ⋮              ⋮             \n",
       "1043 M   0.560  0.430    0.155  0.8675       0.4000         0.1720        \n",
       "1044 F   0.565  0.450    0.165  0.8870       0.3700         0.2390        \n",
       "1045 M   0.600  0.475    0.205  1.1760       0.5255         0.2875        \n",
       "     Shell weight Rings\n",
       "1    0.205        10   \n",
       "2    0.185        10   \n",
       "3    0.100         7   \n",
       "⋮    ⋮            ⋮    \n",
       "1043 0.229         8   \n",
       "1044 0.249        11   \n",
       "1045 0.308         9   "
      ]
     },
     "metadata": {},
     "output_type": "display_data"
    }
   ],
   "source": [
    "shell_split <- initial_split(shell, prop = 0.75)  \n",
    "shell_train <- training(shell_split)\n",
    "shell_test <- testing(shell_split)\n",
    "\n",
    "shell_train\n",
    "shell_test\n"
   ]
  },
  {
   "cell_type": "code",
   "execution_count": null,
   "id": "27ffdbc5-2533-4e88-9e70-fb3f1427d428",
   "metadata": {},
   "outputs": [],
   "source": []
  }
 ],
 "metadata": {
  "kernelspec": {
   "display_name": "R",
   "language": "R",
   "name": "ir"
  },
  "language_info": {
   "codemirror_mode": "r",
   "file_extension": ".r",
   "mimetype": "text/x-r-source",
   "name": "R",
   "pygments_lexer": "r",
   "version": "4.1.3"
  }
 },
 "nbformat": 4,
 "nbformat_minor": 5
}
