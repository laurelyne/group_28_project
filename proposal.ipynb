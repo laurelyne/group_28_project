{
 "cells": [
  {
   "cell_type": "markdown",
   "id": "967f7527",
   "metadata": {},
   "source": [
    "**Title:** What the Shell?!"
   ]
  },
  {
   "cell_type": "markdown",
   "id": "31686201",
   "metadata": {},
   "source": [
    "**Team member:** Laurelyne Barbier, Carter Gunning, Sebastian Martinez Sotomayor and Tayte Stefaniuk"
   ]
  },
  {
   "cell_type": "markdown",
   "id": "51b0245b-52cd-48a5-9267-4753d181d806",
   "metadata": {},
   "source": [
    "**Introduction**\n",
    "\n",
    "Abalones are a type of mollusk that are found in marine environments and commonly considered a delicacy in many cuisines (costing up to 100$ per shell 😨, (The Pricer, 2021)). This has placed many species of Abalone in endangered species lists and have prompted scientific research into their population tendencies, (Kerlin, 2022). Part of the research conducted involves determining the age of individuals by cutting the shell, staining it, and counting the rings that are formed perennially using a microscope. This is a very tedious process, so scientists have resorted to other measurements performed on the abalones to predict their age (Nash & Sellers, 1994).\n",
    "\n",
    "The question we are thus aiming to answer through our project is the following: Can the age of an abalone be predicted based on several measurements describing its dimensions and weight using a model using R?\n",
    "\n",
    "The dataset we will be using to answer this question give various statistics on the physical characteristics of 4178 different mollusks.  These statistics include the length, diameter, height, weight, shucked weight, viscera weight (weight of soft inside), shell weight and number of rings of these mollusks.  One categorical variable they use is sex of the mollusk which can be male, female, or infant (infant is a category because mollusks can switch sexes) (Kaggle, n.d.)."
   ]
  },
  {
   "cell_type": "markdown",
   "id": "e58d15ec-ee09-47fa-b899-2c2dc89bf4f4",
   "metadata": {},
   "source": [
    "**Preliminary exploratory data analysis**"
   ]
  },
  {
   "cell_type": "code",
   "execution_count": 33,
   "id": "8dd3798e",
   "metadata": {},
   "outputs": [
    {
     "name": "stderr",
     "output_type": "stream",
     "text": [
      "Warning message in file(filename, \"r\", encoding = encoding):\n",
      "“cannot open file 'tests.R': No such file or directory”\n"
     ]
    },
    {
     "ename": "ERROR",
     "evalue": "Error in file(filename, \"r\", encoding = encoding): cannot open the connection\n",
     "output_type": "error",
     "traceback": [
      "Error in file(filename, \"r\", encoding = encoding): cannot open the connection\nTraceback:\n",
      "1. source(\"tests.R\")",
      "2. file(filename, \"r\", encoding = encoding)"
     ]
    }
   ],
   "source": [
    "###\n",
    "### Tidy Package\n",
    "###\n",
    "\n",
    "library(repr)\n",
    "library(tidyverse)\n",
    "library(tidymodels)\n",
    "options(repr.matrix.max.rows = 6)\n",
    "source('tests.R')\n",
    "source(\"cleanup.R\")\n",
    "\n",
    "# functions needed to work with images\n",
    "# code below sourced from: https://gist.github.com/daviddalpiaz/ae62ae5ccd0bada4b9acd6dbc9008706\n",
    "# helper function for visualization\n",
    "show_digit = function(arr784, col = gray(12:1 / 12), ...) {\n",
    "  arr784$X <- 0  # avoid dark pixel in top left\n",
    "  image(matrix(as.matrix(arr784[-785]), nrow = 28)[, 28:1], col = col, ...)\n",
    "}\n",
    "\n",
    "#set seed\n",
    "\n",
    "set.seed(1969)"
   ]
  },
  {
   "cell_type": "markdown",
   "id": "309ff0c4",
   "metadata": {},
   "source": [
    "**Demonstrate that the dataset can be read from the web into R**\n"
   ]
  },
  {
   "cell_type": "code",
   "execution_count": null,
   "id": "d1c1f275",
   "metadata": {},
   "outputs": [],
   "source": [
    "raw_shell <- read_csv(\"data/abalone.csv\")\n",
    "raw_shell"
   ]
  },
  {
   "cell_type": "markdown",
   "id": "8466a6d7",
   "metadata": {},
   "source": [
    "**Clean and wrangle your data into a tidy format:**\n",
    "\n",
    "Data is already tidy.\n"
   ]
  },
  {
   "cell_type": "code",
   "execution_count": null,
   "id": "ee708478-0c46-44b1-9fde-300a60eb74ce",
   "metadata": {},
   "outputs": [],
   "source": [
    "#lowercase column names & rid of spaces\n",
    "names(raw_shell) <- tolower(names(raw_shell))\n",
    "shell <- rename(raw_shell, \"whole_weight\" = \"whole weight\",\"shucked_weight\" = \"shucked weight\", \"viscera_weight\" =\n",
    "        \"viscera weight\", \"shell_weight\" = \"shell weight\")\n",
    "\n",
    "#adding an age column, knowing that age in years = number of rings + 1.5.\n",
    "shell <- mutate(shell, age = rings + 1.5)\n",
    "shell\n"
   ]
  },
  {
   "cell_type": "markdown",
   "id": "7f88aea5",
   "metadata": {},
   "source": [
    "**Using only training data, summarize the data in at least one table (this is exploratory data analysis). An example of a useful table could be one that reports the number of observations in each class, the means of the predictor variables you plan to use in your analysis and how many rows have missing data.**\n"
   ]
  },
  {
   "cell_type": "code",
   "execution_count": null,
   "id": "e1277717",
   "metadata": {},
   "outputs": [],
   "source": [
    "shell_split <- initial_split(shell, prop = 0.75)  \n",
    "shell_train <- training(shell_split)\n",
    "shell_test <- testing(shell_split)\n",
    "\n",
    "shell_train\n",
    "shell_test\n"
   ]
  },
  {
   "cell_type": "code",
   "execution_count": null,
   "id": "27ffdbc5-2533-4e88-9e70-fb3f1427d428",
   "metadata": {},
   "outputs": [],
   "source": [
    "# number of observations in each class\n",
    "shell_obs <- shell_train|>\n",
    "    group_by(sex)|>\n",
    "    summarize(count = n())\n",
    "shell_obs\n",
    "\n",
    "# means of predictor variables\n",
    "\n",
    "shell_means <- shell_train |>\n",
    "    select(length:shell_weight)|>\n",
    "    map_df(mean)\n",
    "shell_means"
   ]
  },
  {
   "cell_type": "markdown",
   "id": "c33db881-fce7-4962-8e3a-fccfcd1f2c51",
   "metadata": {},
   "source": [
    "**Using only training data, visualize the data with at least one plot relevant to the analysis you plan to do (this is exploratory data analysis). An example of a useful visualization could be one that compares the distributions of each of the predictor variables you plan to use in your analysis.**\n"
   ]
  },
  {
   "cell_type": "code",
   "execution_count": null,
   "id": "f2e7220e-75cd-4b47-8b8f-ffc0e8cae687",
   "metadata": {},
   "outputs": [],
   "source": [
    "comparative_plot <- shell_train|>\n",
    "    ggplot(aes(x = length, y = age)) +\n",
    "           geom_point(aes(color = sex)) +\n",
    "    labs(x = \"Length (mm)\", y = \"Age (years)\", color = \"Sex\") +\n",
    "    theme(text = element_text(size = 18))\n",
    "comparative_plot"
   ]
  },
  {
   "cell_type": "code",
   "execution_count": null,
   "id": "0b0cc7b5-1414-4491-b499-2e9918ce7ca0",
   "metadata": {},
   "outputs": [],
   "source": []
  }
 ],
 "metadata": {
  "kernelspec": {
   "display_name": "R",
   "language": "R",
   "name": "ir"
  },
  "language_info": {
   "codemirror_mode": "r",
   "file_extension": ".r",
   "mimetype": "text/x-r-source",
   "name": "R",
   "pygments_lexer": "r",
   "version": "4.1.3"
  }
 },
 "nbformat": 4,
 "nbformat_minor": 5
}
